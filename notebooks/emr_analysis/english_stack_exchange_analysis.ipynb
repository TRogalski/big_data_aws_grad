{
 "cells": [
  {
   "cell_type": "markdown",
   "id": "10832a3a",
   "metadata": {},
   "source": [
    "## Analiza danych english stack exchange"
   ]
  },
  {
   "cell_type": "code",
   "execution_count": 1,
   "id": "290f0c0c",
   "metadata": {},
   "outputs": [
    {
     "data": {
      "application/vnd.jupyter.widget-view+json": {
       "model_id": "",
       "version_major": 2,
       "version_minor": 0
      },
      "text/plain": [
       "VBox()"
      ]
     },
     "metadata": {},
     "output_type": "display_data"
    },
    {
     "name": "stdout",
     "output_type": "stream",
     "text": [
      "Starting Spark application\n"
     ]
    },
    {
     "data": {
      "text/html": [
       "<table>\n",
       "<tr><th>ID</th><th>YARN Application ID</th><th>Kind</th><th>State</th><th>Spark UI</th><th>Driver log</th><th>User</th><th>Current session?</th></tr><tr><td>0</td><td>application_1674243240971_0001</td><td>pyspark</td><td>idle</td><td><a target=\"_blank\" href=\"http://ip-172-31-55-34.ec2.internal:20888/proxy/application_1674243240971_0001/\" class=\"emr-proxy-link\" emr-resource=\"j-1XAWGNTEWOWAT\n",
       "\" application-id=\"application_1674243240971_0001\">Link</a></td><td><a target=\"_blank\" href=\"http://ip-172-31-52-249.ec2.internal:8042/node/containerlogs/container_1674243240971_0001_01_000001/livy\" >Link</a></td><td>None</td><td>✔</td></tr></table>"
      ],
      "text/plain": [
       "<IPython.core.display.HTML object>"
      ]
     },
     "metadata": {},
     "output_type": "display_data"
    },
    {
     "data": {
      "application/vnd.jupyter.widget-view+json": {
       "model_id": "",
       "version_major": 2,
       "version_minor": 0
      },
      "text/plain": [
       "FloatProgress(value=0.0, bar_style='info', description='Progress:', layout=Layout(height='25px', width='50%'),…"
      ]
     },
     "metadata": {},
     "output_type": "display_data"
    },
    {
     "name": "stdout",
     "output_type": "stream",
     "text": [
      "SparkSession available as 'spark'.\n"
     ]
    },
    {
     "data": {
      "application/vnd.jupyter.widget-view+json": {
       "model_id": "",
       "version_major": 2,
       "version_minor": 0
      },
      "text/plain": [
       "FloatProgress(value=0.0, bar_style='info', description='Progress:', layout=Layout(height='25px', width='50%'),…"
      ]
     },
     "metadata": {},
     "output_type": "display_data"
    },
    {
     "name": "stdout",
     "output_type": "stream",
     "text": [
      "Collecting matplotlib==3.1.1\n",
      "  Downloading https://files.pythonhosted.org/packages/19/7a/60bd79c5d79559150f8bba866dd7d434f0a170312e4d15e8aefa5faba294/matplotlib-3.1.1-cp37-cp37m-manylinux1_x86_64.whl (13.1MB)\n",
      "Collecting pyparsing!=2.0.4,!=2.1.2,!=2.1.6,>=2.0.1 (from matplotlib==3.1.1)\n",
      "  Downloading https://files.pythonhosted.org/packages/6c/10/a7d0fa5baea8fe7b50f448ab742f26f52b80bfca85ac2be9d35cdd9a3246/pyparsing-3.0.9-py3-none-any.whl (98kB)\n",
      "Collecting python-dateutil>=2.1 (from matplotlib==3.1.1)\n",
      "  Downloading https://files.pythonhosted.org/packages/36/7a/87837f39d0296e723bb9b62bbb257d0355c7f6128853c78955f57342a56d/python_dateutil-2.8.2-py2.py3-none-any.whl (247kB)\n",
      "Requirement already satisfied: numpy>=1.11 in /usr/local/lib64/python3.7/site-packages (from matplotlib==3.1.1)\n",
      "Collecting cycler>=0.10 (from matplotlib==3.1.1)\n",
      "  Downloading https://files.pythonhosted.org/packages/5c/f9/695d6bedebd747e5eb0fe8fad57b72fdf25411273a39791cde838d5a8f51/cycler-0.11.0-py3-none-any.whl\n",
      "Collecting kiwisolver>=1.0.1 (from matplotlib==3.1.1)\n",
      "  Downloading https://files.pythonhosted.org/packages/ab/8f/8dbe2d4efc4c0b08ec67d6efb7cc31fbfd688c80afad85f65980633b0d37/kiwisolver-1.4.4-cp37-cp37m-manylinux_2_5_x86_64.manylinux1_x86_64.whl (1.1MB)\n",
      "Requirement already satisfied: six>=1.5 in /usr/local/lib/python3.7/site-packages (from python-dateutil>=2.1->matplotlib==3.1.1)\n",
      "Collecting typing-extensions; python_version < \"3.8\" (from kiwisolver>=1.0.1->matplotlib==3.1.1)\n",
      "  Downloading https://files.pythonhosted.org/packages/0b/8e/f1a0a5a76cfef77e1eb6004cb49e5f8d72634da638420b9ea492ce8305e8/typing_extensions-4.4.0-py3-none-any.whl\n",
      "Installing collected packages: pyparsing, python-dateutil, cycler, typing-extensions, kiwisolver, matplotlib\n",
      "Successfully installed cycler-0.11.0 kiwisolver-1.4.4 matplotlib-3.1.1 pyparsing-3.0.9 python-dateutil-2.8.2 typing-extensions-4.4.0\n",
      "\n",
      "Collecting pandas==0.25.1\n",
      "  Downloading https://files.pythonhosted.org/packages/7e/ab/ea76361f9d3e732e114adcd801d2820d5319c23d0ac5482fa3b412db217e/pandas-0.25.1-cp37-cp37m-manylinux1_x86_64.whl (10.4MB)\n",
      "Requirement already satisfied: numpy>=1.13.3 in /usr/local/lib64/python3.7/site-packages (from pandas==0.25.1)\n",
      "Requirement already satisfied: python-dateutil>=2.6.1 in /mnt/tmp/1674243736368-0/lib/python3.7/site-packages (from pandas==0.25.1)\n",
      "Requirement already satisfied: pytz>=2017.2 in /usr/local/lib/python3.7/site-packages (from pandas==0.25.1)\n",
      "Requirement already satisfied: six>=1.5 in /usr/local/lib/python3.7/site-packages (from python-dateutil>=2.6.1->pandas==0.25.1)\n",
      "Installing collected packages: pandas\n",
      "Successfully installed pandas-0.25.1\n",
      "\n",
      "You are using pip version 9.0.1, however version 22.3.1 is available.\n",
      "You should consider upgrading via the 'pip install --upgrade pip' command.\n",
      "\n",
      "You are using pip version 9.0.1, however version 22.3.1 is available.\n",
      "You should consider upgrading via the 'pip install --upgrade pip' command."
     ]
    }
   ],
   "source": [
    "sc.install_pypi_package(\"matplotlib==3.1.1\", \"https://pypi.org/simple\")\n",
    "sc.install_pypi_package(\"pandas==0.25.1\")"
   ]
  },
  {
   "cell_type": "code",
   "execution_count": 2,
   "id": "b338a7c3",
   "metadata": {},
   "outputs": [
    {
     "data": {
      "application/vnd.jupyter.widget-view+json": {
       "model_id": "2c956ff12c4648848846b2ab18a0d8fb",
       "version_major": 2,
       "version_minor": 0
      },
      "text/plain": [
       "VBox()"
      ]
     },
     "metadata": {},
     "output_type": "display_data"
    },
    {
     "data": {
      "application/vnd.jupyter.widget-view+json": {
       "model_id": "",
       "version_major": 2,
       "version_minor": 0
      },
      "text/plain": [
       "FloatProgress(value=0.0, bar_style='info', description='Progress:', layout=Layout(height='25px', width='50%'),…"
      ]
     },
     "metadata": {},
     "output_type": "display_data"
    },
    {
     "name": "stdout",
     "output_type": "stream",
     "text": [
      "aws-cfn-bootstrap (2.0)\n",
      "beautifulsoup4 (4.9.3)\n",
      "boto (2.49.0)\n",
      "click (8.1.1)\n",
      "cycler (0.11.0)\n",
      "docutils (0.14)\n",
      "jmespath (1.0.0)\n",
      "joblib (1.1.0)\n",
      "kiwisolver (1.4.4)\n",
      "lockfile (0.11.0)\n",
      "lxml (4.8.0)\n",
      "matplotlib (3.1.1)\n",
      "mysqlclient (1.4.2)\n",
      "nltk (3.7)\n",
      "nose (1.3.4)\n",
      "numpy (1.20.0)\n",
      "pandas (0.25.1)\n",
      "pip (9.0.1)\n",
      "py-dateutil (2.2)\n",
      "pyparsing (3.0.9)\n",
      "pystache (0.5.4)\n",
      "python-daemon (2.2.3)\n",
      "python-dateutil (2.8.2)\n",
      "python37-sagemaker-pyspark (1.4.1)\n",
      "pytz (2022.1)\n",
      "PyYAML (5.4.1)\n",
      "regex (2021.11.10)\n",
      "setuptools (28.8.0)\n",
      "simplejson (3.2.0)\n",
      "six (1.13.0)\n",
      "tqdm (4.63.1)\n",
      "typing-extensions (4.4.0)\n",
      "wheel (0.29.0)\n",
      "windmill (1.6)\n",
      "\n",
      "DEPRECATION: The default format will switch to columns in the future. You can use --format=(legacy|columns) (or define a format=(legacy|columns) in your pip.conf under the [list] section) to disable this warning.\n",
      "You are using pip version 9.0.1, however version 22.3.1 is available.\n",
      "You should consider upgrading via the 'pip install --upgrade pip' command."
     ]
    }
   ],
   "source": [
    "sc.list_packages()"
   ]
  },
  {
   "cell_type": "code",
   "execution_count": 3,
   "id": "f27408d4",
   "metadata": {},
   "outputs": [
    {
     "data": {
      "application/vnd.jupyter.widget-view+json": {
       "model_id": "693470e1b6f84e8bb2394dbbffdffbe3",
       "version_major": 2,
       "version_minor": 0
      },
      "text/plain": [
       "VBox()"
      ]
     },
     "metadata": {},
     "output_type": "display_data"
    },
    {
     "data": {
      "application/vnd.jupyter.widget-view+json": {
       "model_id": "",
       "version_major": 2,
       "version_minor": 0
      },
      "text/plain": [
       "FloatProgress(value=0.0, bar_style='info', description='Progress:', layout=Layout(height='25px', width='50%'),…"
      ]
     },
     "metadata": {},
     "output_type": "display_data"
    }
   ],
   "source": [
    "import pyspark.sql.functions as F"
   ]
  },
  {
   "cell_type": "code",
   "execution_count": 4,
   "id": "2c93ca03",
   "metadata": {},
   "outputs": [
    {
     "data": {
      "application/vnd.jupyter.widget-view+json": {
       "model_id": "e25ec963615e46c980b308e9cedcbe36",
       "version_major": 2,
       "version_minor": 0
      },
      "text/plain": [
       "VBox()"
      ]
     },
     "metadata": {},
     "output_type": "display_data"
    },
    {
     "data": {
      "application/vnd.jupyter.widget-view+json": {
       "model_id": "",
       "version_major": 2,
       "version_minor": 0
      },
      "text/plain": [
       "FloatProgress(value=0.0, bar_style='info', description='Progress:', layout=Layout(height='25px', width='50%'),…"
      ]
     },
     "metadata": {},
     "output_type": "display_data"
    }
   ],
   "source": [
    "from pyspark.sql import SparkSession\n",
    "\n",
    "\n",
    "spark = SparkSession.builder.appName(\"english_stack_exchange_analysis\").getOrCreate()"
   ]
  },
  {
   "cell_type": "code",
   "execution_count": 5,
   "id": "baf33002",
   "metadata": {},
   "outputs": [
    {
     "data": {
      "application/vnd.jupyter.widget-view+json": {
       "model_id": "0653a97944a047bf867df07b1214a72e",
       "version_major": 2,
       "version_minor": 0
      },
      "text/plain": [
       "VBox()"
      ]
     },
     "metadata": {},
     "output_type": "display_data"
    },
    {
     "data": {
      "application/vnd.jupyter.widget-view+json": {
       "model_id": "",
       "version_major": 2,
       "version_minor": 0
      },
      "text/plain": [
       "FloatProgress(value=0.0, bar_style='info', description='Progress:', layout=Layout(height='25px', width='50%'),…"
      ]
     },
     "metadata": {},
     "output_type": "display_data"
    }
   ],
   "source": [
    "df_posts = spark.read.parquet(\"s3://english-stackexchange-com/parquet/2023-01-19/posts.parquet\")\n",
    "df_tags = spark.read.parquet(\"s3://english-stackexchange-com/parquet/2023-01-19/tags.parquet\")\n",
    "df_users = spark.read.parquet(\"s3://english-stackexchange-com/parquet/2023-01-19/users.parquet\")"
   ]
  },
  {
   "cell_type": "markdown",
   "id": "c44b5670",
   "metadata": {},
   "source": [
    "#### liczba postow na przestrzeni czasu"
   ]
  },
  {
   "cell_type": "code",
   "execution_count": 7,
   "id": "2afd295f",
   "metadata": {},
   "outputs": [
    {
     "data": {
      "application/vnd.jupyter.widget-view+json": {
       "model_id": "7af9e11be59d4e2b8bebd9beb3cb3d10",
       "version_major": 2,
       "version_minor": 0
      },
      "text/plain": [
       "VBox()"
      ]
     },
     "metadata": {},
     "output_type": "display_data"
    },
    {
     "data": {
      "application/vnd.jupyter.widget-view+json": {
       "model_id": "",
       "version_major": 2,
       "version_minor": 0
      },
      "text/plain": [
       "FloatProgress(value=0.0, bar_style='info', description='Progress:', layout=Layout(height='25px', width='50%'),…"
      ]
     },
     "metadata": {},
     "output_type": "display_data"
    }
   ],
   "source": [
    "df_posts_history = df_posts.groupBy(F.to_date(\"creation_date\").alias(\"creation_date\")).count().orderBy(F.col(\"creation_date\").desc())"
   ]
  },
  {
   "cell_type": "code",
   "execution_count": 163,
   "id": "dbe052ea",
   "metadata": {},
   "outputs": [
    {
     "data": {
      "application/vnd.jupyter.widget-view+json": {
       "model_id": "94302f217f3a4c1dbda8450095a3fcc3",
       "version_major": 2,
       "version_minor": 0
      },
      "text/plain": [
       "VBox()"
      ]
     },
     "metadata": {},
     "output_type": "display_data"
    },
    {
     "data": {
      "application/vnd.jupyter.widget-view+json": {
       "model_id": "",
       "version_major": 2,
       "version_minor": 0
      },
      "text/plain": [
       "FloatProgress(value=0.0, bar_style='info', description='Progress:', layout=Layout(height='25px', width='50%'),…"
      ]
     },
     "metadata": {},
     "output_type": "display_data"
    }
   ],
   "source": [
    "df_posts = df_posts.withColumn(\"creation_date_month\", F.trunc(\"creation_date\", \"month\"))"
   ]
  },
  {
   "cell_type": "code",
   "execution_count": 164,
   "id": "0eb47bf2",
   "metadata": {},
   "outputs": [
    {
     "data": {
      "application/vnd.jupyter.widget-view+json": {
       "model_id": "915d7668942042c19c48e3897db11747",
       "version_major": 2,
       "version_minor": 0
      },
      "text/plain": [
       "VBox()"
      ]
     },
     "metadata": {},
     "output_type": "display_data"
    },
    {
     "data": {
      "application/vnd.jupyter.widget-view+json": {
       "model_id": "",
       "version_major": 2,
       "version_minor": 0
      },
      "text/plain": [
       "FloatProgress(value=0.0, bar_style='info', description='Progress:', layout=Layout(height='25px', width='50%'),…"
      ]
     },
     "metadata": {},
     "output_type": "display_data"
    }
   ],
   "source": [
    "df_posts_history_monthly = df_posts.groupBy(F.to_date(\"creation_date_month\").alias(\"creation_date_month\")).count().orderBy(F.col(\"creation_date_month\").desc())"
   ]
  },
  {
   "cell_type": "code",
   "execution_count": 169,
   "id": "ca31d2fd",
   "metadata": {},
   "outputs": [
    {
     "data": {
      "application/vnd.jupyter.widget-view+json": {
       "model_id": "bc772ae2254842e08488f498226d3db9",
       "version_major": 2,
       "version_minor": 0
      },
      "text/plain": [
       "VBox()"
      ]
     },
     "metadata": {},
     "output_type": "display_data"
    },
    {
     "data": {
      "application/vnd.jupyter.widget-view+json": {
       "model_id": "",
       "version_major": 2,
       "version_minor": 0
      },
      "text/plain": [
       "FloatProgress(value=0.0, bar_style='info', description='Progress:', layout=Layout(height='25px', width='50%'),…"
      ]
     },
     "metadata": {},
     "output_type": "display_data"
    }
   ],
   "source": [
    "pd_df_posts_history_monthly = df_posts_history_monthly.toPandas()"
   ]
  },
  {
   "cell_type": "code",
   "execution_count": 9,
   "id": "6abc2c76",
   "metadata": {},
   "outputs": [
    {
     "data": {
      "application/vnd.jupyter.widget-view+json": {
       "model_id": "18fdd6d418074da998763ab9fb20057b",
       "version_major": 2,
       "version_minor": 0
      },
      "text/plain": [
       "VBox()"
      ]
     },
     "metadata": {},
     "output_type": "display_data"
    },
    {
     "data": {
      "application/vnd.jupyter.widget-view+json": {
       "model_id": "",
       "version_major": 2,
       "version_minor": 0
      },
      "text/plain": [
       "FloatProgress(value=0.0, bar_style='info', description='Progress:', layout=Layout(height='25px', width='50%'),…"
      ]
     },
     "metadata": {},
     "output_type": "display_data"
    }
   ],
   "source": [
    "import matplotlib.pyplot as plt"
   ]
  },
  {
   "cell_type": "code",
   "execution_count": 191,
   "id": "dcad1443",
   "metadata": {},
   "outputs": [
    {
     "data": {
      "application/vnd.jupyter.widget-view+json": {
       "model_id": "b75001ce96a249c290e39efe365d18af",
       "version_major": 2,
       "version_minor": 0
      },
      "text/plain": [
       "VBox()"
      ]
     },
     "metadata": {},
     "output_type": "display_data"
    },
    {
     "data": {
      "application/vnd.jupyter.widget-view+json": {
       "model_id": "",
       "version_major": 2,
       "version_minor": 0
      },
      "text/plain": [
       "FloatProgress(value=0.0, bar_style='info', description='Progress:', layout=Layout(height='25px', width='50%'),…"
      ]
     },
     "metadata": {},
     "output_type": "display_data"
    },
    {
     "data": {
      "image/png": "[encoded data removed]",
      "text/plain": [
       "<IPython.core.display.Image object>"
      ]
     },
     "metadata": {},
     "output_type": "display_data"
    }
   ],
   "source": [
    "posts = pd_df_posts_history_monthly[\"count\"]\n",
    "labels = pd_df_posts_history_monthly[\"creation_date_month\"]\n",
    "\n",
    "plt.clf()\n",
    "plt.fill_between(labels, posts)\n",
    "fig = plt.gcf()\n",
    "fig.set_size_inches(12, 4)\n",
    "Size = fig.get_size_inches()\n",
    "# plt.title('Posty na przestrzeni lat')\n",
    "plt.xlabel('Rok')\n",
    "plt.ylabel('Posty')\n",
    "%matplot plt"
   ]
  },
  {
   "cell_type": "markdown",
   "id": "b3e36a78",
   "metadata": {},
   "source": [
    "#### top 15 tagow"
   ]
  },
  {
   "cell_type": "code",
   "execution_count": 146,
   "id": "82d7784d",
   "metadata": {},
   "outputs": [
    {
     "data": {
      "application/vnd.jupyter.widget-view+json": {
       "model_id": "670d76bbeab04d5788ff5cd24eaec9c7",
       "version_major": 2,
       "version_minor": 0
      },
      "text/plain": [
       "VBox()"
      ]
     },
     "metadata": {},
     "output_type": "display_data"
    },
    {
     "data": {
      "application/vnd.jupyter.widget-view+json": {
       "model_id": "",
       "version_major": 2,
       "version_minor": 0
      },
      "text/plain": [
       "FloatProgress(value=0.0, bar_style='info', description='Progress:', layout=Layout(height='25px', width='50%'),…"
      ]
     },
     "metadata": {},
     "output_type": "display_data"
    }
   ],
   "source": [
    "df_tags_top = df_tags.orderBy(F.col(\"count\").desc()).limit(15)"
   ]
  },
  {
   "cell_type": "code",
   "execution_count": 147,
   "id": "a820171e",
   "metadata": {},
   "outputs": [
    {
     "data": {
      "application/vnd.jupyter.widget-view+json": {
       "model_id": "482f55d8ddbc47cd8b694acb037ee492",
       "version_major": 2,
       "version_minor": 0
      },
      "text/plain": [
       "VBox()"
      ]
     },
     "metadata": {},
     "output_type": "display_data"
    },
    {
     "data": {
      "application/vnd.jupyter.widget-view+json": {
       "model_id": "",
       "version_major": 2,
       "version_minor": 0
      },
      "text/plain": [
       "FloatProgress(value=0.0, bar_style='info', description='Progress:', layout=Layout(height='25px', width='50%'),…"
      ]
     },
     "metadata": {},
     "output_type": "display_data"
    },
    {
     "name": "stdout",
     "output_type": "stream",
     "text": [
      "+---+--------------------+-----+---------------+------------+\n",
      "| id|            tag_name|count|excerpt_post_id|wiki_post_id|\n",
      "+---+--------------------+-----+---------------+------------+\n",
      "|326|single-word-requests|19971|          14097|       14096|\n",
      "| 54|             meaning|16544|           3294|        3293|\n",
      "|  7|             grammar|13661|          14043|       14042|\n",
      "|125|         word-choice|11205|          14099|       14098|\n",
      "|658|          word-usage| 6772|          31769|       31768|\n",
      "|344|      grammaticality| 6073|          11093|       11092|\n",
      "|  2|           etymology| 5772|           2880|        2879|\n",
      "|334|             phrases| 5650|          13025|       13024|\n",
      "|297|         expressions| 5620|          18219|       18218|\n",
      "|651|     phrase-requests| 5320|          33984|       33983|\n",
      "|648|  meaning-in-context| 4953|          21052|       21051|\n",
      "|273|               verbs| 4504|           3530|        3529|\n",
      "|295|              idioms| 4239|          18035|       18034|\n",
      "|287|        prepositions| 4072|           3320|        3319|\n",
      "|291|          adjectives| 3930|          18128|       18127|\n",
      "+---+--------------------+-----+---------------+------------+"
     ]
    }
   ],
   "source": [
    "df_tags_top.show()"
   ]
  },
  {
   "cell_type": "code",
   "execution_count": 148,
   "id": "94c9880c",
   "metadata": {},
   "outputs": [
    {
     "data": {
      "application/vnd.jupyter.widget-view+json": {
       "model_id": "fe26fcec6be747579d1dcba2dd708a83",
       "version_major": 2,
       "version_minor": 0
      },
      "text/plain": [
       "VBox()"
      ]
     },
     "metadata": {},
     "output_type": "display_data"
    },
    {
     "data": {
      "application/vnd.jupyter.widget-view+json": {
       "model_id": "",
       "version_major": 2,
       "version_minor": 0
      },
      "text/plain": [
       "FloatProgress(value=0.0, bar_style='info', description='Progress:', layout=Layout(height='25px', width='50%'),…"
      ]
     },
     "metadata": {},
     "output_type": "display_data"
    }
   ],
   "source": [
    "pd_df_tags_top = df_tags_top[\"tag_name\", \"count\"].toPandas()"
   ]
  },
  {
   "cell_type": "code",
   "execution_count": 192,
   "id": "5dd9bd9d",
   "metadata": {},
   "outputs": [
    {
     "data": {
      "application/vnd.jupyter.widget-view+json": {
       "model_id": "e6e7042ca2134d0da2e1d8e79dc2f921",
       "version_major": 2,
       "version_minor": 0
      },
      "text/plain": [
       "VBox()"
      ]
     },
     "metadata": {},
     "output_type": "display_data"
    },
    {
     "data": {
      "application/vnd.jupyter.widget-view+json": {
       "model_id": "",
       "version_major": 2,
       "version_minor": 0
      },
      "text/plain": [
       "FloatProgress(value=0.0, bar_style='info', description='Progress:', layout=Layout(height='25px', width='50%'),…"
      ]
     },
     "metadata": {},
     "output_type": "display_data"
    },
    {
     "data": {
      "image/png": "[encoded data removed]",
      "text/plain": [
       "<IPython.core.display.Image object>"
      ]
     },
     "metadata": {},
     "output_type": "display_data"
    }
   ],
   "source": [
    "posts = pd_df_tags_top[\"count\"]\n",
    "labels = pd_df_tags_top[\"tag_name\"]\n",
    "\n",
    "plt.clf()\n",
    "plt.barh(labels, posts, align='center')\n",
    "fig = plt.gcf()\n",
    "Size = fig.get_size_inches()\n",
    "# fig.set_size_inches(8, 7, True)\n",
    "fig.set_size_inches(12, 4)\n",
    "plt.subplots_adjust(left=0.2)\n",
    "# plt.title('Historycznie najpopularniejsze tagi - top 15')\n",
    "plt.xlabel('Posty')\n",
    "plt.ylabel('Tagi')\n",
    "%matplot plt"
   ]
  },
  {
   "cell_type": "code",
   "execution_count": 15,
   "id": "4243b0bc",
   "metadata": {},
   "outputs": [
    {
     "data": {
      "application/vnd.jupyter.widget-view+json": {
       "model_id": "20a530095c934d7ea0399dfc579e3621",
       "version_major": 2,
       "version_minor": 0
      },
      "text/plain": [
       "VBox()"
      ]
     },
     "metadata": {},
     "output_type": "display_data"
    },
    {
     "data": {
      "application/vnd.jupyter.widget-view+json": {
       "model_id": "",
       "version_major": 2,
       "version_minor": 0
      },
      "text/plain": [
       "FloatProgress(value=0.0, bar_style='info', description='Progress:', layout=Layout(height='25px', width='50%'),…"
      ]
     },
     "metadata": {},
     "output_type": "display_data"
    },
    {
     "name": "stdout",
     "output_type": "stream",
     "text": [
      "-RECORD 0-----------------------------------------------------------------------------------------------------------------------------------------------------------------------------------------------------------------------------------------------------------------------------------------------------------------------------------------------------------------------------------------------------------------------------------------------------------------------------------------------------------------------------------------------------------------------------------------------------------------------------------------------------------------------------------------------------------------------------------------------------------------------------------------------------------------------------------------------------------------------------------------------------------------------------------------------------------------------------------------------------------------------------------------------------------------------------------------------------------------------------------------------------------------------------------------------------------------------------------------------------------------------------------------------------------------------------------------------------------------------------------------------------------------------------------------------------------------------------------------------------------------------------------------------------------------------------------------------------------------------------------------------------------------------------------------------------------------------------------------------------------------------------------------------------------------------------------------------------------------------------------------------------------------------------------------------------------------------------------------------------------------------------------------------------------------------------------------------------------------------------------------------------------------------------------------------------------------------------------------------------------------------------\n",
      " id                       | 542512                                                                                                                                                                                                                                                                                                                                                                                                                                                                                                                                                                                                                                                                                                                                                                                                                                                                                                                                                                                                                                                                                                                                                                                                                                                                                                                                                                                                                                                                                                                                                                                                                                                                                                                                                                                                                                                                                                                                                                                                                                                                                                                                                                                                                                                    \n",
      " post_type_id             | 2                                                                                                                                                                                                                                                                                                                                                                                                                                                                                                                                                                                                                                                                                                                                                                                                                                                                                                                                                                                                                                                                                                                                                                                                                                                                                                                                                                                                                                                                                                                                                                                                                                                                                                                                                                                                                                                                                                                                                                                                                                                                                                                                                                                                                                                         \n",
      " accepted_answer_id       | null                                                                                                                                                                                                                                                                                                                                                                                                                                                                                                                                                                                                                                                                                                                                                                                                                                                                                                                                                                                                                                                                                                                                                                                                                                                                                                                                                                                                                                                                                                                                                                                                                                                                                                                                                                                                                                                                                                                                                                                                                                                                                                                                                                                                                                                      \n",
      " parent_id                | 542511                                                                                                                                                                                                                                                                                                                                                                                                                                                                                                                                                                                                                                                                                                                                                                                                                                                                                                                                                                                                                                                                                                                                                                                                                                                                                                                                                                                                                                                                                                                                                                                                                                                                                                                                                                                                                                                                                                                                                                                                                                                                                                                                                                                                                                                    \n",
      " creation_date            | 2020-08-02 07:51:54.71                                                                                                                                                                                                                                                                                                                                                                                                                                                                                                                                                                                                                                                                                                                                                                                                                                                                                                                                                                                                                                                                                                                                                                                                                                                                                                                                                                                                                                                                                                                                                                                                                                                                                                                                                                                                                                                                                                                                                                                                                                                                                                                                                                                                                                    \n",
      " score                    | 2                                                                                                                                                                                                                                                                                                                                                                                                                                                                                                                                                                                                                                                                                                                                                                                                                                                                                                                                                                                                                                                                                                                                                                                                                                                                                                                                                                                                                                                                                                                                                                                                                                                                                                                                                                                                                                                                                                                                                                                                                                                                                                                                                                                                                                                         \n",
      " view_count               | null                                                                                                                                                                                                                                                                                                                                                                                                                                                                                                                                                                                                                                                                                                                                                                                                                                                                                                                                                                                                                                                                                                                                                                                                                                                                                                                                                                                                                                                                                                                                                                                                                                                                                                                                                                                                                                                                                                                                                                                                                                                                                                                                                                                                                                                      \n",
      " body                     | <p>No, not really, although it could maybe depend on what you mean by &quot;more fully supported by English grammar&quot;.</p>\n",
      "<p>Neither interpretation is ungrammatical at all in the model of English grammar that is standardly accepted by syntacticians. It's very clear that <a href=\"https://english.stackexchange.com/a/342975/77227\">English grammar rules produce ambiguous output in many situations</a>. Grammar rules are not normally conceived of as providing <em>degrees</em> of support for one structure vs. another: rather, they either allow or forbid a certain structure. (There may be optional grammar rules, or rules that only exist for certain speakers, but that's different from rules that provide a gradient amount of support for constructions.)</p>\n",
      "<p>You could only speak of grammar providing <em>greater</em> or <em>lesser</em> amounts of support if you don't view &quot;grammar&quot; as consisting of rules about which grammatical structures are allowed. I don't really know what it means to do this, but I think some people seem to have opinions like &quot;grammar is really a sociological phenomenon&quot; or &quot;grammar is really just about communication&quot;. If you have that kind of viewpoint, however, I think it would be hard to exclude context and expectations from your definition of &quot;grammar&quot;, so I wouldn't say it makes much sense to speak of what grammar says about the sentence &quot;I know a man with a wooden leg named Smith&quot;. It would say different things depending on the context.</p>\n",
      "<p>Xanne in the comments mentions a supposed tendency in certain cases to go with &quot;the nearest reference&quot; but although that's a somewhat common idea that English speakers have about usage in some areas of language, it's not a rule about what is allowed, nor is it clear that it's really an accurate description of a case like this: the two possible options for what &quot;named Smith&quot; can be attached to are &quot;a wooden leg&quot; and &quot;a man with a wooden leg&quot;. Both come right before &quot;named Smith&quot;; &quot;a wooden leg&quot; is not actually <em>closer.</em> The difference is in bracketing.</p>\n",
      " \n",
      " owner_user_id            | 77227                                                                                                                                                                                                                                                                                                                                                                                                                                                                                                                                                                                                                                                                                                                                                                                                                                                                                                                                                                                                                                                                                                                                                                                                                                                                                                                                                                                                                                                                                                                                                                                                                                                                                                                                                                                                                                                                                                                                                                                                                                                                                                                                                                                                                                                     \n",
      " owner_display_name       | null                                                                                                                                                                                                                                                                                                                                                                                                                                                                                                                                                                                                                                                                                                                                                                                                                                                                                                                                                                                                                                                                                                                                                                                                                                                                                                                                                                                                                                                                                                                                                                                                                                                                                                                                                                                                                                                                                                                                                                                                                                                                                                                                                                                                                                                      \n",
      " last_editor_user_id      | 77227                                                                                                                                                                                                                                                                                                                                                                                                                                                                                                                                                                                                                                                                                                                                                                                                                                                                                                                                                                                                                                                                                                                                                                                                                                                                                                                                                                                                                                                                                                                                                                                                                                                                                                                                                                                                                                                                                                                                                                                                                                                                                                                                                                                                                                                     \n",
      " last_editor_display_name | null                                                                                                                                                                                                                                                                                                                                                                                                                                                                                                                                                                                                                                                                                                                                                                                                                                                                                                                                                                                                                                                                                                                                                                                                                                                                                                                                                                                                                                                                                                                                                                                                                                                                                                                                                                                                                                                                                                                                                                                                                                                                                                                                                                                                                                                      \n",
      " last_edit_date           | 2020-08-08 08:54:31.727                                                                                                                                                                                                                                                                                                                                                                                                                                                                                                                                                                                                                                                                                                                                                                                                                                                                                                                                                                                                                                                                                                                                                                                                                                                                                                                                                                                                                                                                                                                                                                                                                                                                                                                                                                                                                                                                                                                                                                                                                                                                                                                                                                                                                                   \n",
      " last_activity_date       | 2020-08-08 08:54:31.727                                                                                                                                                                                                                                                                                                                                                                                                                                                                                                                                                                                                                                                                                                                                                                                                                                                                                                                                                                                                                                                                                                                                                                                                                                                                                                                                                                                                                                                                                                                                                                                                                                                                                                                                                                                                                                                                                                                                                                                                                                                                                                                                                                                                                                   \n",
      " title                    | null                                                                                                                                                                                                                                                                                                                                                                                                                                                                                                                                                                                                                                                                                                                                                                                                                                                                                                                                                                                                                                                                                                                                                                                                                                                                                                                                                                                                                                                                                                                                                                                                                                                                                                                                                                                                                                                                                                                                                                                                                                                                                                                                                                                                                                                      \n",
      " tags                     | null                                                                                                                                                                                                                                                                                                                                                                                                                                                                                                                                                                                                                                                                                                                                                                                                                                                                                                                                                                                                                                                                                                                                                                                                                                                                                                                                                                                                                                                                                                                                                                                                                                                                                                                                                                                                                                                                                                                                                                                                                                                                                                                                                                                                                                                      \n",
      " answer_count             | null                                                                                                                                                                                                                                                                                                                                                                                                                                                                                                                                                                                                                                                                                                                                                                                                                                                                                                                                                                                                                                                                                                                                                                                                                                                                                                                                                                                                                                                                                                                                                                                                                                                                                                                                                                                                                                                                                                                                                                                                                                                                                                                                                                                                                                                      \n",
      " comment_count            | 7                                                                                                                                                                                                                                                                                                                                                                                                                                                                                                                                                                                                                                                                                                                                                                                                                                                                                                                                                                                                                                                                                                                                                                                                                                                                                                                                                                                                                                                                                                                                                                                                                                                                                                                                                                                                                                                                                                                                                                                                                                                                                                                                                                                                                                                         \n",
      " favorite_count           | null                                                                                                                                                                                                                                                                                                                                                                                                                                                                                                                                                                                                                                                                                                                                                                                                                                                                                                                                                                                                                                                                                                                                                                                                                                                                                                                                                                                                                                                                                                                                                                                                                                                                                                                                                                                                                                                                                                                                                                                                                                                                                                                                                                                                                                                      \n",
      " closed_date              | null                                                                                                                                                                                                                                                                                                                                                                                                                                                                                                                                                                                                                                                                                                                                                                                                                                                                                                                                                                                                                                                                                                                                                                                                                                                                                                                                                                                                                                                                                                                                                                                                                                                                                                                                                                                                                                                                                                                                                                                                                                                                                                                                                                                                                                                      \n",
      " community_owned_date     | null                                                                                                                                                                                                                                                                                                                                                                                                                                                                                                                                                                                                                                                                                                                                                                                                                                                                                                                                                                                                                                                                                                                                                                                                                                                                                                                                                                                                                                                                                                                                                                                                                                                                                                                                                                                                                                                                                                                                                                                                                                                                                                                                                                                                                                                      \n",
      " content_license          | CC BY-SA 4.0                                                                                                                                                                                                                                                                                                                                                                                                                                                                                                                                                                                                                                                                                                                                                                                                                                                                                                                                                                                                                                                                                                                                                                                                                                                                                                                                                                                                                                                                                                                                                                                                                                                                                                                                                                                                                                                                                                                                                                                                                                                                                                                                                                                                                                              \n",
      "only showing top 1 row"
     ]
    }
   ],
   "source": [
    "df_posts.show(1, truncate=False, vertical=True)"
   ]
  },
  {
   "cell_type": "code",
   "execution_count": 33,
   "id": "e3706cff",
   "metadata": {},
   "outputs": [
    {
     "data": {
      "application/vnd.jupyter.widget-view+json": {
       "model_id": "3cf10f2b40ef40d9b1260e3c2cb01f3e",
       "version_major": 2,
       "version_minor": 0
      },
      "text/plain": [
       "VBox()"
      ]
     },
     "metadata": {},
     "output_type": "display_data"
    },
    {
     "data": {
      "application/vnd.jupyter.widget-view+json": {
       "model_id": "",
       "version_major": 2,
       "version_minor": 0
      },
      "text/plain": [
       "FloatProgress(value=0.0, bar_style='info', description='Progress:', layout=Layout(height='25px', width='50%'),…"
      ]
     },
     "metadata": {},
     "output_type": "display_data"
    },
    {
     "name": "stdout",
     "output_type": "stream",
     "text": [
      "-RECORD 0--------------------------------------------------------------------\n",
      " tags       | null                                                           \n",
      " tags_split | null                                                           \n",
      "-RECORD 1--------------------------------------------------------------------\n",
      " tags       | <meaning><phrases><expressions><phrase-requests><phrase-usage> \n",
      " tags_split | [meaning, phrases, expressions, phrase-requests, phrase-usage] \n",
      "-RECORD 2--------------------------------------------------------------------\n",
      " tags       | null                                                           \n",
      " tags_split | null                                                           \n",
      "-RECORD 3--------------------------------------------------------------------\n",
      " tags       | <grammar><pronouns><whom><who>                                 \n",
      " tags_split | [grammar, pronouns, whom, who]                                 \n",
      "only showing top 4 rows"
     ]
    }
   ],
   "source": [
    "df_posts.select('tags', F.split(F.regexp_replace(F.col('tags'), \"^<|>$\", \"\"), \"><\").alias('tags_split')).show(4, truncate=False, vertical=True)"
   ]
  },
  {
   "cell_type": "code",
   "execution_count": 34,
   "id": "f70cae0d",
   "metadata": {},
   "outputs": [
    {
     "data": {
      "application/vnd.jupyter.widget-view+json": {
       "model_id": "0719300c03ca4a2a8919505cc1e3dfc5",
       "version_major": 2,
       "version_minor": 0
      },
      "text/plain": [
       "VBox()"
      ]
     },
     "metadata": {},
     "output_type": "display_data"
    },
    {
     "data": {
      "application/vnd.jupyter.widget-view+json": {
       "model_id": "",
       "version_major": 2,
       "version_minor": 0
      },
      "text/plain": [
       "FloatProgress(value=0.0, bar_style='info', description='Progress:', layout=Layout(height='25px', width='50%'),…"
      ]
     },
     "metadata": {},
     "output_type": "display_data"
    }
   ],
   "source": [
    "df_posts = df_posts.withColumn(\"tags_split\", F.split(F.regexp_replace(F.col('tags'), \"^<|>$\", \"\"), \"><\"))"
   ]
  },
  {
   "cell_type": "code",
   "execution_count": 35,
   "id": "28e611b7",
   "metadata": {},
   "outputs": [
    {
     "data": {
      "application/vnd.jupyter.widget-view+json": {
       "model_id": "146af4b6314242109a80fee5a1450189",
       "version_major": 2,
       "version_minor": 0
      },
      "text/plain": [
       "VBox()"
      ]
     },
     "metadata": {},
     "output_type": "display_data"
    },
    {
     "data": {
      "application/vnd.jupyter.widget-view+json": {
       "model_id": "",
       "version_major": 2,
       "version_minor": 0
      },
      "text/plain": [
       "FloatProgress(value=0.0, bar_style='info', description='Progress:', layout=Layout(height='25px', width='50%'),…"
      ]
     },
     "metadata": {},
     "output_type": "display_data"
    },
    {
     "name": "stdout",
     "output_type": "stream",
     "text": [
      "-RECORD 0-----------------------------------------------------------------------------------------------------------------------------------------------------------------------------------------------------------------------------------------------------------------------------------------------------------------------------------------------------------------------------------------------------------------------------------------------------------------------------------------------------------------------------------------------------------------------------------------------------------------------------------------------------------------------------------------------------------------------------------------------------------------------------------------------------------------------------------------------------------------------------------------------------------------------------------------------------------------------------------------------------------------------------------------------------------------------------------------------------------------------------------------------------------------------------------------------------------------------------------------------------------------------------------------------------------------------------------------------------------------------------------------------------------------------------------------------------------------------------------------------------------------------------------------------------------------------------------------------------------------------------------------------------------------------------------------------------------------------------------------------------------------------------------------------------------------------------------------------------------------------------------------------------------------------------------------------------------------------------------------------------------------------------------------------------------------------------------------------------------------------------------------------------------------------------------------------------------------------------------------------------------------------------\n",
      " id                       | 542512                                                                                                                                                                                                                                                                                                                                                                                                                                                                                                                                                                                                                                                                                                                                                                                                                                                                                                                                                                                                                                                                                                                                                                                                                                                                                                                                                                                                                                                                                                                                                                                                                                                                                                                                                                                                                                                                                                                                                                                                                                                                                                                                                                                                                                                    \n",
      " post_type_id             | 2                                                                                                                                                                                                                                                                                                                                                                                                                                                                                                                                                                                                                                                                                                                                                                                                                                                                                                                                                                                                                                                                                                                                                                                                                                                                                                                                                                                                                                                                                                                                                                                                                                                                                                                                                                                                                                                                                                                                                                                                                                                                                                                                                                                                                                                         \n",
      " accepted_answer_id       | null                                                                                                                                                                                                                                                                                                                                                                                                                                                                                                                                                                                                                                                                                                                                                                                                                                                                                                                                                                                                                                                                                                                                                                                                                                                                                                                                                                                                                                                                                                                                                                                                                                                                                                                                                                                                                                                                                                                                                                                                                                                                                                                                                                                                                                                      \n",
      " parent_id                | 542511                                                                                                                                                                                                                                                                                                                                                                                                                                                                                                                                                                                                                                                                                                                                                                                                                                                                                                                                                                                                                                                                                                                                                                                                                                                                                                                                                                                                                                                                                                                                                                                                                                                                                                                                                                                                                                                                                                                                                                                                                                                                                                                                                                                                                                                    \n",
      " creation_date            | 2020-08-02 07:51:54.71                                                                                                                                                                                                                                                                                                                                                                                                                                                                                                                                                                                                                                                                                                                                                                                                                                                                                                                                                                                                                                                                                                                                                                                                                                                                                                                                                                                                                                                                                                                                                                                                                                                                                                                                                                                                                                                                                                                                                                                                                                                                                                                                                                                                                                    \n",
      " score                    | 2                                                                                                                                                                                                                                                                                                                                                                                                                                                                                                                                                                                                                                                                                                                                                                                                                                                                                                                                                                                                                                                                                                                                                                                                                                                                                                                                                                                                                                                                                                                                                                                                                                                                                                                                                                                                                                                                                                                                                                                                                                                                                                                                                                                                                                                         \n",
      " view_count               | null                                                                                                                                                                                                                                                                                                                                                                                                                                                                                                                                                                                                                                                                                                                                                                                                                                                                                                                                                                                                                                                                                                                                                                                                                                                                                                                                                                                                                                                                                                                                                                                                                                                                                                                                                                                                                                                                                                                                                                                                                                                                                                                                                                                                                                                      \n",
      " body                     | <p>No, not really, although it could maybe depend on what you mean by &quot;more fully supported by English grammar&quot;.</p>\n",
      "<p>Neither interpretation is ungrammatical at all in the model of English grammar that is standardly accepted by syntacticians. It's very clear that <a href=\"https://english.stackexchange.com/a/342975/77227\">English grammar rules produce ambiguous output in many situations</a>. Grammar rules are not normally conceived of as providing <em>degrees</em> of support for one structure vs. another: rather, they either allow or forbid a certain structure. (There may be optional grammar rules, or rules that only exist for certain speakers, but that's different from rules that provide a gradient amount of support for constructions.)</p>\n",
      "<p>You could only speak of grammar providing <em>greater</em> or <em>lesser</em> amounts of support if you don't view &quot;grammar&quot; as consisting of rules about which grammatical structures are allowed. I don't really know what it means to do this, but I think some people seem to have opinions like &quot;grammar is really a sociological phenomenon&quot; or &quot;grammar is really just about communication&quot;. If you have that kind of viewpoint, however, I think it would be hard to exclude context and expectations from your definition of &quot;grammar&quot;, so I wouldn't say it makes much sense to speak of what grammar says about the sentence &quot;I know a man with a wooden leg named Smith&quot;. It would say different things depending on the context.</p>\n",
      "<p>Xanne in the comments mentions a supposed tendency in certain cases to go with &quot;the nearest reference&quot; but although that's a somewhat common idea that English speakers have about usage in some areas of language, it's not a rule about what is allowed, nor is it clear that it's really an accurate description of a case like this: the two possible options for what &quot;named Smith&quot; can be attached to are &quot;a wooden leg&quot; and &quot;a man with a wooden leg&quot;. Both come right before &quot;named Smith&quot;; &quot;a wooden leg&quot; is not actually <em>closer.</em> The difference is in bracketing.</p>\n",
      " \n",
      " owner_user_id            | 77227                                                                                                                                                                                                                                                                                                                                                                                                                                                                                                                                                                                                                                                                                                                                                                                                                                                                                                                                                                                                                                                                                                                                                                                                                                                                                                                                                                                                                                                                                                                                                                                                                                                                                                                                                                                                                                                                                                                                                                                                                                                                                                                                                                                                                                                     \n",
      " owner_display_name       | null                                                                                                                                                                                                                                                                                                                                                                                                                                                                                                                                                                                                                                                                                                                                                                                                                                                                                                                                                                                                                                                                                                                                                                                                                                                                                                                                                                                                                                                                                                                                                                                                                                                                                                                                                                                                                                                                                                                                                                                                                                                                                                                                                                                                                                                      \n",
      " last_editor_user_id      | 77227                                                                                                                                                                                                                                                                                                                                                                                                                                                                                                                                                                                                                                                                                                                                                                                                                                                                                                                                                                                                                                                                                                                                                                                                                                                                                                                                                                                                                                                                                                                                                                                                                                                                                                                                                                                                                                                                                                                                                                                                                                                                                                                                                                                                                                                     \n",
      " last_editor_display_name | null                                                                                                                                                                                                                                                                                                                                                                                                                                                                                                                                                                                                                                                                                                                                                                                                                                                                                                                                                                                                                                                                                                                                                                                                                                                                                                                                                                                                                                                                                                                                                                                                                                                                                                                                                                                                                                                                                                                                                                                                                                                                                                                                                                                                                                                      \n",
      " last_edit_date           | 2020-08-08 08:54:31.727                                                                                                                                                                                                                                                                                                                                                                                                                                                                                                                                                                                                                                                                                                                                                                                                                                                                                                                                                                                                                                                                                                                                                                                                                                                                                                                                                                                                                                                                                                                                                                                                                                                                                                                                                                                                                                                                                                                                                                                                                                                                                                                                                                                                                                   \n",
      " last_activity_date       | 2020-08-08 08:54:31.727                                                                                                                                                                                                                                                                                                                                                                                                                                                                                                                                                                                                                                                                                                                                                                                                                                                                                                                                                                                                                                                                                                                                                                                                                                                                                                                                                                                                                                                                                                                                                                                                                                                                                                                                                                                                                                                                                                                                                                                                                                                                                                                                                                                                                                   \n",
      " title                    | null                                                                                                                                                                                                                                                                                                                                                                                                                                                                                                                                                                                                                                                                                                                                                                                                                                                                                                                                                                                                                                                                                                                                                                                                                                                                                                                                                                                                                                                                                                                                                                                                                                                                                                                                                                                                                                                                                                                                                                                                                                                                                                                                                                                                                                                      \n",
      " tags                     | null                                                                                                                                                                                                                                                                                                                                                                                                                                                                                                                                                                                                                                                                                                                                                                                                                                                                                                                                                                                                                                                                                                                                                                                                                                                                                                                                                                                                                                                                                                                                                                                                                                                                                                                                                                                                                                                                                                                                                                                                                                                                                                                                                                                                                                                      \n",
      " answer_count             | null                                                                                                                                                                                                                                                                                                                                                                                                                                                                                                                                                                                                                                                                                                                                                                                                                                                                                                                                                                                                                                                                                                                                                                                                                                                                                                                                                                                                                                                                                                                                                                                                                                                                                                                                                                                                                                                                                                                                                                                                                                                                                                                                                                                                                                                      \n",
      " comment_count            | 7                                                                                                                                                                                                                                                                                                                                                                                                                                                                                                                                                                                                                                                                                                                                                                                                                                                                                                                                                                                                                                                                                                                                                                                                                                                                                                                                                                                                                                                                                                                                                                                                                                                                                                                                                                                                                                                                                                                                                                                                                                                                                                                                                                                                                                                         \n",
      " favorite_count           | null                                                                                                                                                                                                                                                                                                                                                                                                                                                                                                                                                                                                                                                                                                                                                                                                                                                                                                                                                                                                                                                                                                                                                                                                                                                                                                                                                                                                                                                                                                                                                                                                                                                                                                                                                                                                                                                                                                                                                                                                                                                                                                                                                                                                                                                      \n",
      " closed_date              | null                                                                                                                                                                                                                                                                                                                                                                                                                                                                                                                                                                                                                                                                                                                                                                                                                                                                                                                                                                                                                                                                                                                                                                                                                                                                                                                                                                                                                                                                                                                                                                                                                                                                                                                                                                                                                                                                                                                                                                                                                                                                                                                                                                                                                                                      \n",
      " community_owned_date     | null                                                                                                                                                                                                                                                                                                                                                                                                                                                                                                                                                                                                                                                                                                                                                                                                                                                                                                                                                                                                                                                                                                                                                                                                                                                                                                                                                                                                                                                                                                                                                                                                                                                                                                                                                                                                                                                                                                                                                                                                                                                                                                                                                                                                                                                      \n",
      " content_license          | CC BY-SA 4.0                                                                                                                                                                                                                                                                                                                                                                                                                                                                                                                                                                                                                                                                                                                                                                                                                                                                                                                                                                                                                                                                                                                                                                                                                                                                                                                                                                                                                                                                                                                                                                                                                                                                                                                                                                                                                                                                                                                                                                                                                                                                                                                                                                                                                                              \n",
      " tags_split               | null                                                                                                                                                                                                                                                                                                                                                                                                                                                                                                                                                                                                                                                                                                                                                                                                                                                                                                                                                                                                                                                                                                                                                                                                                                                                                                                                                                                                                                                                                                                                                                                                                                                                                                                                                                                                                                                                                                                                                                                                                                                                                                                                                                                                                                                      \n",
      "-RECORD 1-----------------------------------------------------------------------------------------------------------------------------------------------------------------------------------------------------------------------------------------------------------------------------------------------------------------------------------------------------------------------------------------------------------------------------------------------------------------------------------------------------------------------------------------------------------------------------------------------------------------------------------------------------------------------------------------------------------------------------------------------------------------------------------------------------------------------------------------------------------------------------------------------------------------------------------------------------------------------------------------------------------------------------------------------------------------------------------------------------------------------------------------------------------------------------------------------------------------------------------------------------------------------------------------------------------------------------------------------------------------------------------------------------------------------------------------------------------------------------------------------------------------------------------------------------------------------------------------------------------------------------------------------------------------------------------------------------------------------------------------------------------------------------------------------------------------------------------------------------------------------------------------------------------------------------------------------------------------------------------------------------------------------------------------------------------------------------------------------------------------------------------------------------------------------------------------------------------------------------------------------------------------------------\n",
      " id                       | 542513                                                                                                                                                                                                                                                                                                                                                                                                                                                                                                                                                                                                                                                                                                                                                                                                                                                                                                                                                                                                                                                                                                                                                                                                                                                                                                                                                                                                                                                                                                                                                                                                                                                                                                                                                                                                                                                                                                                                                                                                                                                                                                                                                                                                                                                    \n",
      " post_type_id             | 1                                                                                                                                                                                                                                                                                                                                                                                                                                                                                                                                                                                                                                                                                                                                                                                                                                                                                                                                                                                                                                                                                                                                                                                                                                                                                                                                                                                                                                                                                                                                                                                                                                                                                                                                                                                                                                                                                                                                                                                                                                                                                                                                                                                                                                                         \n",
      " accepted_answer_id       | null                                                                                                                                                                                                                                                                                                                                                                                                                                                                                                                                                                                                                                                                                                                                                                                                                                                                                                                                                                                                                                                                                                                                                                                                                                                                                                                                                                                                                                                                                                                                                                                                                                                                                                                                                                                                                                                                                                                                                                                                                                                                                                                                                                                                                                                      \n",
      " parent_id                | null                                                                                                                                                                                                                                                                                                                                                                                                                                                                                                                                                                                                                                                                                                                                                                                                                                                                                                                                                                                                                                                                                                                                                                                                                                                                                                                                                                                                                                                                                                                                                                                                                                                                                                                                                                                                                                                                                                                                                                                                                                                                                                                                                                                                                                                      \n",
      " creation_date            | 2020-08-02 07:54:05.667                                                                                                                                                                                                                                                                                                                                                                                                                                                                                                                                                                                                                                                                                                                                                                                                                                                                                                                                                                                                                                                                                                                                                                                                                                                                                                                                                                                                                                                                                                                                                                                                                                                                                                                                                                                                                                                                                                                                                                                                                                                                                                                                                                                                                                   \n",
      " score                    | 0                                                                                                                                                                                                                                                                                                                                                                                                                                                                                                                                                                                                                                                                                                                                                                                                                                                                                                                                                                                                                                                                                                                                                                                                                                                                                                                                                                                                                                                                                                                                                                                                                                                                                                                                                                                                                                                                                                                                                                                                                                                                                                                                                                                                                                                         \n",
      " view_count               | 1721                                                                                                                                                                                                                                                                                                                                                                                                                                                                                                                                                                                                                                                                                                                                                                                                                                                                                                                                                                                                                                                                                                                                                                                                                                                                                                                                                                                                                                                                                                                                                                                                                                                                                                                                                                                                                                                                                                                                                                                                                                                                                                                                                                                                                                                      \n",
      " body                     | <p>So I have this sentence: <em>&quot;These books are very good and they <strong>hold up against</strong> both biblical and geopolitical scrutiny&quot;</em> and I'm not sure what would that mean...</p>\n",
      "                                                                                                                                                                                                                                                                                                                                                                                                                                                                                                                                                                                                                                                                                                                                                                                                                                                                                                                                                                                                                                                                                                                                                                                                                                                                                                                                                                                                                                                                                                                                                                                                                                                                                                                                                                                                                                                                                                                                                                                                                                                \n",
      " owner_user_id            | 394595                                                                                                                                                                                                                                                                                                                                                                                                                                                                                                                                                                                                                                                                                                                                                                                                                                                                                                                                                                                                                                                                                                                                                                                                                                                                                                                                                                                                                                                                                                                                                                                                                                                                                                                                                                                                                                                                                                                                                                                                                                                                                                                                                                                                                                                    \n",
      " owner_display_name       | null                                                                                                                                                                                                                                                                                                                                                                                                                                                                                                                                                                                                                                                                                                                                                                                                                                                                                                                                                                                                                                                                                                                                                                                                                                                                                                                                                                                                                                                                                                                                                                                                                                                                                                                                                                                                                                                                                                                                                                                                                                                                                                                                                                                                                                                      \n",
      " last_editor_user_id      | null                                                                                                                                                                                                                                                                                                                                                                                                                                                                                                                                                                                                                                                                                                                                                                                                                                                                                                                                                                                                                                                                                                                                                                                                                                                                                                                                                                                                                                                                                                                                                                                                                                                                                                                                                                                                                                                                                                                                                                                                                                                                                                                                                                                                                                                      \n",
      " last_editor_display_name | null                                                                                                                                                                                                                                                                                                                                                                                                                                                                                                                                                                                                                                                                                                                                                                                                                                                                                                                                                                                                                                                                                                                                                                                                                                                                                                                                                                                                                                                                                                                                                                                                                                                                                                                                                                                                                                                                                                                                                                                                                                                                                                                                                                                                                                                      \n",
      " last_edit_date           | null                                                                                                                                                                                                                                                                                                                                                                                                                                                                                                                                                                                                                                                                                                                                                                                                                                                                                                                                                                                                                                                                                                                                                                                                                                                                                                                                                                                                                                                                                                                                                                                                                                                                                                                                                                                                                                                                                                                                                                                                                                                                                                                                                                                                                                                      \n",
      " last_activity_date       | 2021-01-29 12:08:58.92                                                                                                                                                                                                                                                                                                                                                                                                                                                                                                                                                                                                                                                                                                                                                                                                                                                                                                                                                                                                                                                                                                                                                                                                                                                                                                                                                                                                                                                                                                                                                                                                                                                                                                                                                                                                                                                                                                                                                                                                                                                                                                                                                                                                                                    \n",
      " title                    | What does it mean \"To hold up against scrutiny\"                                                                                                                                                                                                                                                                                                                                                                                                                                                                                                                                                                                                                                                                                                                                                                                                                                                                                                                                                                                                                                                                                                                                                                                                                                                                                                                                                                                                                                                                                                                                                                                                                                                                                                                                                                                                                                                                                                                                                                                                                                                                                                                                                                                                           \n",
      " tags                     | <meaning><phrases><expressions><phrase-requests><phrase-usage>                                                                                                                                                                                                                                                                                                                                                                                                                                                                                                                                                                                                                                                                                                                                                                                                                                                                                                                                                                                                                                                                                                                                                                                                                                                                                                                                                                                                                                                                                                                                                                                                                                                                                                                                                                                                                                                                                                                                                                                                                                                                                                                                                                                            \n",
      " answer_count             | 3                                                                                                                                                                                                                                                                                                                                                                                                                                                                                                                                                                                                                                                                                                                                                                                                                                                                                                                                                                                                                                                                                                                                                                                                                                                                                                                                                                                                                                                                                                                                                                                                                                                                                                                                                                                                                                                                                                                                                                                                                                                                                                                                                                                                                                                         \n",
      " comment_count            | 1                                                                                                                                                                                                                                                                                                                                                                                                                                                                                                                                                                                                                                                                                                                                                                                                                                                                                                                                                                                                                                                                                                                                                                                                                                                                                                                                                                                                                                                                                                                                                                                                                                                                                                                                                                                                                                                                                                                                                                                                                                                                                                                                                                                                                                                         \n",
      " favorite_count           | null                                                                                                                                                                                                                                                                                                                                                                                                                                                                                                                                                                                                                                                                                                                                                                                                                                                                                                                                                                                                                                                                                                                                                                                                                                                                                                                                                                                                                                                                                                                                                                                                                                                                                                                                                                                                                                                                                                                                                                                                                                                                                                                                                                                                                                                      \n",
      " closed_date              | null                                                                                                                                                                                                                                                                                                                                                                                                                                                                                                                                                                                                                                                                                                                                                                                                                                                                                                                                                                                                                                                                                                                                                                                                                                                                                                                                                                                                                                                                                                                                                                                                                                                                                                                                                                                                                                                                                                                                                                                                                                                                                                                                                                                                                                                      \n",
      " community_owned_date     | null                                                                                                                                                                                                                                                                                                                                                                                                                                                                                                                                                                                                                                                                                                                                                                                                                                                                                                                                                                                                                                                                                                                                                                                                                                                                                                                                                                                                                                                                                                                                                                                                                                                                                                                                                                                                                                                                                                                                                                                                                                                                                                                                                                                                                                                      \n",
      " content_license          | CC BY-SA 4.0                                                                                                                                                                                                                                                                                                                                                                                                                                                                                                                                                                                                                                                                                                                                                                                                                                                                                                                                                                                                                                                                                                                                                                                                                                                                                                                                                                                                                                                                                                                                                                                                                                                                                                                                                                                                                                                                                                                                                                                                                                                                                                                                                                                                                                              \n",
      " tags_split               | [meaning, phrases, expressions, phrase-requests, phrase-usage]                                                                                                                                                                                                                                                                                                                                                                                                                                                                                                                                                                                                                                                                                                                                                                                                                                                                                                                                                                                                                                                                                                                                                                                                                                                                                                                                                                                                                                                                                                                                                                                                                                                                                                                                                                                                                                                                                                                                                                                                                                                                                                                                                                                            \n",
      "only showing top 2 rows"
     ]
    }
   ],
   "source": [
    "df_posts.show(2, vertical=True, truncate=False)"
   ]
  },
  {
   "cell_type": "code",
   "execution_count": 36,
   "id": "e5cf375e",
   "metadata": {},
   "outputs": [
    {
     "data": {
      "application/vnd.jupyter.widget-view+json": {
       "model_id": "2bd9729ec29b469ca211e5c74b292745",
       "version_major": 2,
       "version_minor": 0
      },
      "text/plain": [
       "VBox()"
      ]
     },
     "metadata": {},
     "output_type": "display_data"
    },
    {
     "data": {
      "application/vnd.jupyter.widget-view+json": {
       "model_id": "",
       "version_major": 2,
       "version_minor": 0
      },
      "text/plain": [
       "FloatProgress(value=0.0, bar_style='info', description='Progress:', layout=Layout(height='25px', width='50%'),…"
      ]
     },
     "metadata": {},
     "output_type": "display_data"
    }
   ],
   "source": [
    "exploded_posts_tags = df_posts.select(F.to_date(\"creation_date\").alias(\"creation_date\"), F.explode(\"tags_split\").alias(\"tag\")).groupBy(F.col(\"creation_date\"), F.col(\"tag\")).count()"
   ]
  },
  {
   "cell_type": "code",
   "execution_count": 37,
   "id": "9602e728",
   "metadata": {},
   "outputs": [
    {
     "data": {
      "application/vnd.jupyter.widget-view+json": {
       "model_id": "64de85ee8ba74b16a0457c27679dfb41",
       "version_major": 2,
       "version_minor": 0
      },
      "text/plain": [
       "VBox()"
      ]
     },
     "metadata": {},
     "output_type": "display_data"
    },
    {
     "data": {
      "application/vnd.jupyter.widget-view+json": {
       "model_id": "",
       "version_major": 2,
       "version_minor": 0
      },
      "text/plain": [
       "FloatProgress(value=0.0, bar_style='info', description='Progress:', layout=Layout(height='25px', width='50%'),…"
      ]
     },
     "metadata": {},
     "output_type": "display_data"
    }
   ],
   "source": [
    "top_tags_list = [i[0] for i in df_tags_top.select(\"tag_name\").collect()]"
   ]
  },
  {
   "cell_type": "code",
   "execution_count": 38,
   "id": "7d55c996",
   "metadata": {},
   "outputs": [
    {
     "data": {
      "application/vnd.jupyter.widget-view+json": {
       "model_id": "ec679ed0a8de4359bcfaaed20c39a8ac",
       "version_major": 2,
       "version_minor": 0
      },
      "text/plain": [
       "VBox()"
      ]
     },
     "metadata": {},
     "output_type": "display_data"
    },
    {
     "data": {
      "application/vnd.jupyter.widget-view+json": {
       "model_id": "",
       "version_major": 2,
       "version_minor": 0
      },
      "text/plain": [
       "FloatProgress(value=0.0, bar_style='info', description='Progress:', layout=Layout(height='25px', width='50%'),…"
      ]
     },
     "metadata": {},
     "output_type": "display_data"
    }
   ],
   "source": [
    "top_tag_posts = exploded_posts_tags.filter(F.col(\"tag\").isin(top_tags_list)).orderBy(F.col(\"creation_date\").desc())"
   ]
  },
  {
   "cell_type": "code",
   "execution_count": 39,
   "id": "e0671ea8",
   "metadata": {},
   "outputs": [
    {
     "data": {
      "application/vnd.jupyter.widget-view+json": {
       "model_id": "658331165fea4eb8a646737621225898",
       "version_major": 2,
       "version_minor": 0
      },
      "text/plain": [
       "VBox()"
      ]
     },
     "metadata": {},
     "output_type": "display_data"
    },
    {
     "data": {
      "application/vnd.jupyter.widget-view+json": {
       "model_id": "",
       "version_major": 2,
       "version_minor": 0
      },
      "text/plain": [
       "FloatProgress(value=0.0, bar_style='info', description='Progress:', layout=Layout(height='25px', width='50%'),…"
      ]
     },
     "metadata": {},
     "output_type": "display_data"
    },
    {
     "name": "stdout",
     "output_type": "stream",
     "text": [
      "+-------------+--------------------+-----+\n",
      "|creation_date|                 tag|count|\n",
      "+-------------+--------------------+-----+\n",
      "|   2022-12-04|single-word-requests|    1|\n",
      "|   2022-12-04|             meaning|    1|\n",
      "|   2022-12-04|          word-usage|    1|\n",
      "|   2022-12-04|             grammar|    4|\n",
      "|   2022-12-03|single-word-requests|    3|\n",
      "|   2022-12-03|          word-usage|    1|\n",
      "|   2022-12-03|             grammar|    5|\n",
      "|   2022-12-03|             meaning|    2|\n",
      "|   2022-12-03|         word-choice|    1|\n",
      "|   2022-12-02|single-word-requests|    2|\n",
      "|   2022-12-02|             grammar|    4|\n",
      "|   2022-12-02|          word-usage|    2|\n",
      "|   2022-12-02|             meaning|    2|\n",
      "|   2022-12-01|             meaning|    5|\n",
      "|   2022-12-01|             grammar|    2|\n",
      "|   2022-12-01|single-word-requests|    1|\n",
      "|   2022-12-01|         word-choice|    2|\n",
      "|   2022-11-30|             grammar|    3|\n",
      "|   2022-11-30|single-word-requests|    3|\n",
      "|   2022-11-30|          word-usage|    1|\n",
      "+-------------+--------------------+-----+\n",
      "only showing top 20 rows"
     ]
    }
   ],
   "source": [
    "top_tag_posts.show()"
   ]
  },
  {
   "cell_type": "code",
   "execution_count": 40,
   "id": "82be54b6",
   "metadata": {},
   "outputs": [
    {
     "data": {
      "application/vnd.jupyter.widget-view+json": {
       "model_id": "ac790007a4064df0acac64f40d12316e",
       "version_major": 2,
       "version_minor": 0
      },
      "text/plain": [
       "VBox()"
      ]
     },
     "metadata": {},
     "output_type": "display_data"
    },
    {
     "data": {
      "application/vnd.jupyter.widget-view+json": {
       "model_id": "",
       "version_major": 2,
       "version_minor": 0
      },
      "text/plain": [
       "FloatProgress(value=0.0, bar_style='info', description='Progress:', layout=Layout(height='25px', width='50%'),…"
      ]
     },
     "metadata": {},
     "output_type": "display_data"
    },
    {
     "name": "stdout",
     "output_type": "stream",
     "text": [
      "+--------------------+----------+\n",
      "|                 tag|sum(count)|\n",
      "+--------------------+----------+\n",
      "|          word-usage|      6772|\n",
      "|single-word-requests|     19971|\n",
      "|         word-choice|     11205|\n",
      "|             meaning|     16544|\n",
      "|             grammar|     13661|\n",
      "+--------------------+----------+"
     ]
    }
   ],
   "source": [
    "top_tag_posts.groupBy(\"tag\").sum(\"count\").show(20)"
   ]
  },
  {
   "cell_type": "code",
   "execution_count": 42,
   "id": "067aa307",
   "metadata": {},
   "outputs": [
    {
     "data": {
      "application/vnd.jupyter.widget-view+json": {
       "model_id": "d444c009541841568523c43d7fa9d30c",
       "version_major": 2,
       "version_minor": 0
      },
      "text/plain": [
       "VBox()"
      ]
     },
     "metadata": {},
     "output_type": "display_data"
    },
    {
     "data": {
      "application/vnd.jupyter.widget-view+json": {
       "model_id": "",
       "version_major": 2,
       "version_minor": 0
      },
      "text/plain": [
       "FloatProgress(value=0.0, bar_style='info', description='Progress:', layout=Layout(height='25px', width='50%'),…"
      ]
     },
     "metadata": {},
     "output_type": "display_data"
    },
    {
     "name": "stdout",
     "output_type": "stream",
     "text": [
      "+--------------------+------+\n",
      "|          tags_split|    id|\n",
      "+--------------------+------+\n",
      "|                null|542512|\n",
      "|[meaning, phrases...|542513|\n",
      "|                null|542514|\n",
      "|[grammar, pronoun...|542515|\n",
      "|                null|542516|\n",
      "|                null|542517|\n",
      "|                null|542518|\n",
      "|[etymology, old-e...|542519|\n",
      "|                null|542520|\n",
      "|      [speech, tone]|542521|\n",
      "|[syntactic-analys...|542523|\n",
      "|                null|542524|\n",
      "|             [story]|542525|\n",
      "|[single-word-requ...|542526|\n",
      "|[meaning, literat...|542527|\n",
      "|                null|542528|\n",
      "|                null|542529|\n",
      "|[nouns, gerunds, ...|542530|\n",
      "|                null|542531|\n",
      "|[idioms, dictiona...|542532|\n",
      "+--------------------+------+\n",
      "only showing top 20 rows"
     ]
    }
   ],
   "source": [
    "df_posts.select(\"tags_split\", \"id\").show()"
   ]
  },
  {
   "cell_type": "code",
   "execution_count": 43,
   "id": "92af04e5",
   "metadata": {},
   "outputs": [
    {
     "data": {
      "application/vnd.jupyter.widget-view+json": {
       "model_id": "5710d608082a494c9555a5596f01b24d",
       "version_major": 2,
       "version_minor": 0
      },
      "text/plain": [
       "VBox()"
      ]
     },
     "metadata": {},
     "output_type": "display_data"
    },
    {
     "data": {
      "application/vnd.jupyter.widget-view+json": {
       "model_id": "",
       "version_major": 2,
       "version_minor": 0
      },
      "text/plain": [
       "FloatProgress(value=0.0, bar_style='info', description='Progress:', layout=Layout(height='25px', width='50%'),…"
      ]
     },
     "metadata": {},
     "output_type": "display_data"
    },
    {
     "name": "stdout",
     "output_type": "stream",
     "text": [
      "+---+--------------------+-----+---------------+------------+\n",
      "| id|            tag_name|count|excerpt_post_id|wiki_post_id|\n",
      "+---+--------------------+-----+---------------+------------+\n",
      "|326|single-word-requests|19971|          14097|       14096|\n",
      "| 54|             meaning|16544|           3294|        3293|\n",
      "|  7|             grammar|13661|          14043|       14042|\n",
      "|125|         word-choice|11205|          14099|       14098|\n",
      "|658|          word-usage| 6772|          31769|       31768|\n",
      "|344|      grammaticality| 6073|          11093|       11092|\n",
      "|  2|           etymology| 5772|           2880|        2879|\n",
      "|334|             phrases| 5650|          13025|       13024|\n",
      "|297|         expressions| 5620|          18219|       18218|\n",
      "|651|     phrase-requests| 5320|          33984|       33983|\n",
      "|648|  meaning-in-context| 4953|          21052|       21051|\n",
      "|273|               verbs| 4504|           3530|        3529|\n",
      "|295|              idioms| 4239|          18035|       18034|\n",
      "|287|        prepositions| 4072|           3320|        3319|\n",
      "|291|          adjectives| 3930|          18128|       18127|\n",
      "+---+--------------------+-----+---------------+------------+\n",
      "only showing top 15 rows"
     ]
    }
   ],
   "source": [
    "df_tags.orderBy(F.col(\"count\").desc()).show(15)"
   ]
  },
  {
   "cell_type": "code",
   "execution_count": 44,
   "id": "7618281f",
   "metadata": {},
   "outputs": [
    {
     "data": {
      "application/vnd.jupyter.widget-view+json": {
       "model_id": "426430fb8bdd47f0ac2fa3e63a647a3c",
       "version_major": 2,
       "version_minor": 0
      },
      "text/plain": [
       "VBox()"
      ]
     },
     "metadata": {},
     "output_type": "display_data"
    },
    {
     "data": {
      "application/vnd.jupyter.widget-view+json": {
       "model_id": "",
       "version_major": 2,
       "version_minor": 0
      },
      "text/plain": [
       "FloatProgress(value=0.0, bar_style='info', description='Progress:', layout=Layout(height='25px', width='50%'),…"
      ]
     },
     "metadata": {},
     "output_type": "display_data"
    }
   ],
   "source": [
    "pd_df_top_tag_posts = top_tag_posts.toPandas()"
   ]
  },
  {
   "cell_type": "code",
   "execution_count": 45,
   "id": "281fd7ad",
   "metadata": {},
   "outputs": [
    {
     "data": {
      "application/vnd.jupyter.widget-view+json": {
       "model_id": "7a7ce7d7936a426abd0854c574fd6588",
       "version_major": 2,
       "version_minor": 0
      },
      "text/plain": [
       "VBox()"
      ]
     },
     "metadata": {},
     "output_type": "display_data"
    },
    {
     "data": {
      "application/vnd.jupyter.widget-view+json": {
       "model_id": "",
       "version_major": 2,
       "version_minor": 0
      },
      "text/plain": [
       "FloatProgress(value=0.0, bar_style='info', description='Progress:', layout=Layout(height='25px', width='50%'),…"
      ]
     },
     "metadata": {},
     "output_type": "display_data"
    },
    {
     "name": "stdout",
     "output_type": "stream",
     "text": [
      "+-------------+--------------------+\n",
      "|creation_date|                 tag|\n",
      "+-------------+--------------------+\n",
      "|   2022-12-04|single-word-requests|\n",
      "|   2022-12-04|          word-usage|\n",
      "|   2022-12-04|             grammar|\n",
      "|   2022-12-04|             meaning|\n",
      "|   2022-12-03|             grammar|\n",
      "|   2022-12-03|             meaning|\n",
      "|   2022-12-03|single-word-requests|\n",
      "|   2022-12-03|          word-usage|\n",
      "|   2022-12-03|         word-choice|\n",
      "|   2022-12-02|          word-usage|\n",
      "|   2022-12-02|             meaning|\n",
      "|   2022-12-02|             grammar|\n",
      "|   2022-12-02|single-word-requests|\n",
      "|   2022-12-01|single-word-requests|\n",
      "|   2022-12-01|             meaning|\n",
      "|   2022-12-01|         word-choice|\n",
      "|   2022-12-01|             grammar|\n",
      "|   2022-11-30|             grammar|\n",
      "|   2022-11-30|          word-usage|\n",
      "|   2022-11-30|single-word-requests|\n",
      "+-------------+--------------------+\n",
      "only showing top 20 rows"
     ]
    }
   ],
   "source": [
    "top_tag_posts.select(F.col(\"creation_date\"), F.col(\"tag\")).show()"
   ]
  },
  {
   "cell_type": "code",
   "execution_count": 46,
   "id": "fe0c549a",
   "metadata": {},
   "outputs": [
    {
     "data": {
      "application/vnd.jupyter.widget-view+json": {
       "model_id": "e165c1da2a394c2aa3c6310f5477e149",
       "version_major": 2,
       "version_minor": 0
      },
      "text/plain": [
       "VBox()"
      ]
     },
     "metadata": {},
     "output_type": "display_data"
    },
    {
     "data": {
      "application/vnd.jupyter.widget-view+json": {
       "model_id": "",
       "version_major": 2,
       "version_minor": 0
      },
      "text/plain": [
       "FloatProgress(value=0.0, bar_style='info', description='Progress:', layout=Layout(height='25px', width='50%'),…"
      ]
     },
     "metadata": {},
     "output_type": "display_data"
    }
   ],
   "source": [
    "top_tag_posts = top_tag_posts.withColumn(\"creation_year\", F.year(F.col(\"creation_date\")))"
   ]
  },
  {
   "cell_type": "code",
   "execution_count": 98,
   "id": "1f2291cc",
   "metadata": {},
   "outputs": [
    {
     "data": {
      "application/vnd.jupyter.widget-view+json": {
       "model_id": "98d79257e3ed4b4aa5d61c781ba016e9",
       "version_major": 2,
       "version_minor": 0
      },
      "text/plain": [
       "VBox()"
      ]
     },
     "metadata": {},
     "output_type": "display_data"
    },
    {
     "data": {
      "application/vnd.jupyter.widget-view+json": {
       "model_id": "",
       "version_major": 2,
       "version_minor": 0
      },
      "text/plain": [
       "FloatProgress(value=0.0, bar_style='info', description='Progress:', layout=Layout(height='25px', width='50%'),…"
      ]
     },
     "metadata": {},
     "output_type": "display_data"
    }
   ],
   "source": [
    "pd_pivoted_top_tag_posts = top_tag_posts.groupBy(F.col(\"creation_year\")).pivot(\"tag\").sum(\"count\").sort(F.col(\"creation_year\").asc()).toPandas()"
   ]
  },
  {
   "cell_type": "code",
   "execution_count": 99,
   "id": "2bd9cbc2",
   "metadata": {},
   "outputs": [
    {
     "data": {
      "application/vnd.jupyter.widget-view+json": {
       "model_id": "3eaab519a83e46d99689eaf4be0fd810",
       "version_major": 2,
       "version_minor": 0
      },
      "text/plain": [
       "VBox()"
      ]
     },
     "metadata": {},
     "output_type": "display_data"
    },
    {
     "data": {
      "application/vnd.jupyter.widget-view+json": {
       "model_id": "",
       "version_major": 2,
       "version_minor": 0
      },
      "text/plain": [
       "FloatProgress(value=0.0, bar_style='info', description='Progress:', layout=Layout(height='25px', width='50%'),…"
      ]
     },
     "metadata": {},
     "output_type": "display_data"
    },
    {
     "name": "stdout",
     "output_type": "stream",
     "text": [
      "Index(['creation_year', 'grammar', 'meaning', 'single-word-requests',\n",
      "       'word-choice', 'word-usage'],\n",
      "      dtype='object')"
     ]
    }
   ],
   "source": [
    "pd_pivoted_top_tag_posts.columns"
   ]
  },
  {
   "cell_type": "code",
   "execution_count": 63,
   "id": "2bbb9768",
   "metadata": {},
   "outputs": [
    {
     "data": {
      "application/vnd.jupyter.widget-view+json": {
       "model_id": "1366b69a1e544a1e8191fd4c1cba6f46",
       "version_major": 2,
       "version_minor": 0
      },
      "text/plain": [
       "VBox()"
      ]
     },
     "metadata": {},
     "output_type": "display_data"
    },
    {
     "data": {
      "application/vnd.jupyter.widget-view+json": {
       "model_id": "",
       "version_major": 2,
       "version_minor": 0
      },
      "text/plain": [
       "FloatProgress(value=0.0, bar_style='info', description='Progress:', layout=Layout(height='25px', width='50%'),…"
      ]
     },
     "metadata": {},
     "output_type": "display_data"
    }
   ],
   "source": [
    "import numpy as np"
   ]
  },
  {
   "cell_type": "code",
   "execution_count": 193,
   "id": "6afeb100",
   "metadata": {},
   "outputs": [
    {
     "data": {
      "application/vnd.jupyter.widget-view+json": {
       "model_id": "710787c2385144409099ef515fa8eff5",
       "version_major": 2,
       "version_minor": 0
      },
      "text/plain": [
       "VBox()"
      ]
     },
     "metadata": {},
     "output_type": "display_data"
    },
    {
     "data": {
      "application/vnd.jupyter.widget-view+json": {
       "model_id": "",
       "version_major": 2,
       "version_minor": 0
      },
      "text/plain": [
       "FloatProgress(value=0.0, bar_style='info', description='Progress:', layout=Layout(height='25px', width='50%'),…"
      ]
     },
     "metadata": {},
     "output_type": "display_data"
    },
    {
     "data": {
      "image/png": "[encoded data removed]",
      "text/plain": [
       "<IPython.core.display.Image object>"
      ]
     },
     "metadata": {},
     "output_type": "display_data"
    }
   ],
   "source": [
    "plt.clf()\n",
    "\n",
    "labels = pd_pivoted_top_tag_posts['creation_year']\n",
    "grammar = pd_pivoted_top_tag_posts['grammar']\n",
    "meaning = pd_pivoted_top_tag_posts['meaning']\n",
    "single_word_requests = pd_pivoted_top_tag_posts['single-word-requests']\n",
    "word_choice = pd_pivoted_top_tag_posts['word-choice']\n",
    "word_usage = pd_pivoted_top_tag_posts['word-usage']\n",
    "\n",
    "\n",
    "x = np.arange(len(labels))\n",
    "\n",
    "width = 0.15\n",
    "\n",
    "fig, ax = plt.subplots()\n",
    "\n",
    "rects1 = ax.bar(x - 0.3, pd_pivoted_top_tag_posts['word-usage'], width, label='word-usage')\n",
    "rects2 = ax.bar(x - 0.15, pd_pivoted_top_tag_posts['word-choice'], width, label='word-choice')\n",
    "rects3 = ax.bar(x, pd_pivoted_top_tag_posts['grammar'], width, label='grammar')\n",
    "rects4 = ax.bar(x + 0.15, pd_pivoted_top_tag_posts['meaning'], width, label='meaning')\n",
    "rects5 = ax.bar(x + 0.3, pd_pivoted_top_tag_posts['single-word-requests'], width, label='single-word-requests')\n",
    "\n",
    "ax.set_xticks(x)\n",
    "ax.set_xticklabels(labels)\n",
    "plt.legend([\"grammar\", \"meaning\", \"single-word-requests\", \"word-choice\", \"word-usage\"])\n",
    "fig.set_size_inches(12, 4.5)\n",
    "plt.subplots_adjust(bottom=0.2)\n",
    "# plt.title('Posty na przestrzeni lat w przekroju na najpopularniejsze tagi - top 5')\n",
    "plt.xlabel('Rok')\n",
    "plt.ylabel('Posty')\n",
    "%matplot plt"
   ]
  },
  {
   "cell_type": "markdown",
   "id": "22b20cbb",
   "metadata": {},
   "source": [
    "#### lokalizacja"
   ]
  },
  {
   "cell_type": "code",
   "execution_count": 233,
   "id": "61af4bb2",
   "metadata": {},
   "outputs": [
    {
     "data": {
      "application/vnd.jupyter.widget-view+json": {
       "model_id": "33f3587cae5e419a9fdab0d344410490",
       "version_major": 2,
       "version_minor": 0
      },
      "text/plain": [
       "VBox()"
      ]
     },
     "metadata": {},
     "output_type": "display_data"
    },
    {
     "data": {
      "application/vnd.jupyter.widget-view+json": {
       "model_id": "",
       "version_major": 2,
       "version_minor": 0
      },
      "text/plain": [
       "FloatProgress(value=0.0, bar_style='info', description='Progress:', layout=Layout(height='25px', width='50%'),…"
      ]
     },
     "metadata": {},
     "output_type": "display_data"
    }
   ],
   "source": [
    "df_users = spark.read.parquet(\"s3://english-stackexchange-com/parquet/2023-01-19/users.parquet\")"
   ]
  },
  {
   "cell_type": "code",
   "execution_count": null,
   "id": "721b6ca1",
   "metadata": {},
   "outputs": [],
   "source": [
    "df_users.select(F.split(\"location\", \",\")[-1]).show()"
   ]
  },
  {
   "cell_type": "markdown",
   "id": "3c65bb61",
   "metadata": {},
   "source": [
    "#### czas na forum"
   ]
  },
  {
   "cell_type": "code",
   "execution_count": 216,
   "id": "311ae3c2",
   "metadata": {},
   "outputs": [
    {
     "data": {
      "application/vnd.jupyter.widget-view+json": {
       "model_id": "bc0999b6003043b3a5e603aaa66e1af8",
       "version_major": 2,
       "version_minor": 0
      },
      "text/plain": [
       "VBox()"
      ]
     },
     "metadata": {},
     "output_type": "display_data"
    },
    {
     "data": {
      "application/vnd.jupyter.widget-view+json": {
       "model_id": "",
       "version_major": 2,
       "version_minor": 0
      },
      "text/plain": [
       "FloatProgress(value=0.0, bar_style='info', description='Progress:', layout=Layout(height='25px', width='50%'),…"
      ]
     },
     "metadata": {},
     "output_type": "display_data"
    }
   ],
   "source": [
    "df_users = spark.read.parquet(\"s3://english-stackexchange-com/parquet/2023-01-19/users.parquet\")"
   ]
  },
  {
   "cell_type": "code",
   "execution_count": 217,
   "id": "08e9a671",
   "metadata": {},
   "outputs": [
    {
     "data": {
      "application/vnd.jupyter.widget-view+json": {
       "model_id": "7bb8367bcadd4d6ca62ed7a54dbc8661",
       "version_major": 2,
       "version_minor": 0
      },
      "text/plain": [
       "VBox()"
      ]
     },
     "metadata": {},
     "output_type": "display_data"
    },
    {
     "data": {
      "application/vnd.jupyter.widget-view+json": {
       "model_id": "",
       "version_major": 2,
       "version_minor": 0
      },
      "text/plain": [
       "FloatProgress(value=0.0, bar_style='info', description='Progress:', layout=Layout(height='25px', width='50%'),…"
      ]
     },
     "metadata": {},
     "output_type": "display_data"
    },
    {
     "name": "stdout",
     "output_type": "stream",
     "text": [
      "-RECORD 0------------------------------------------------------------------------------------------------------------------------------------------------------------------------------------------------------------------------------------------------------------------------------------------------------------------------------------------------------------------------------------------------------------------------------------------------------------------------------------------------------------------------------------------------------------\n",
      " id                | -1                                                                                                                                                                                                                                                                                                                                                                                                                                                                                                                                              \n",
      " reputation        | 1                                                                                                                                                                                                                                                                                                                                                                                                                                                                                                                                               \n",
      " creation_date     | 2010-08-05 17:42:59.97                                                                                                                                                                                                                                                                                                                                                                                                                                                                                                                          \n",
      " display_name      | Community                                                                                                                                                                                                                                                                                                                                                                                                                                                                                                                                       \n",
      " last_access_date  | 2010-08-05 17:42:59.97                                                                                                                                                                                                                                                                                                                                                                                                                                                                                                                          \n",
      " website_url       | http://meta.stackexchange.com/                                                                                                                                                                                                                                                                                                                                                                                                                                                                                                                  \n",
      " location          | on the server farm                                                                                                                                                                                                                                                                                                                                                                                                                                                                                                                              \n",
      " about_me          | <p>Hi, I'm not really a person.</p>\n",
      "\n",
      "<p>I'm a background process that helps keep this site clean!</p>\n",
      "\n",
      "<p>I do things like</p>\n",
      "\n",
      "<ul>\n",
      "<li>Randomly poke old unanswered questions every hour so they get some attention</li>\n",
      "<li>Own community questions and answers so nobody gets unnecessary reputation from them</li>\n",
      "<li>Own downvotes on spam/evil posts that get permanently deleted</li>\n",
      "<li>Own suggested edits from anonymous users</li>\n",
      "<li><a href=\"http://meta.stackexchange.com/a/92006\">Remove abandoned questions</a></li>\n",
      "</ul>\n",
      " \n",
      " views             | 10333                                                                                                                                                                                                                                                                                                                                                                                                                                                                                                                                           \n",
      " up_votes          | 28563                                                                                                                                                                                                                                                                                                                                                                                                                                                                                                                                           \n",
      " down_votes        | 54885                                                                                                                                                                                                                                                                                                                                                                                                                                                                                                                                           \n",
      " profile_image_url | null                                                                                                                                                                                                                                                                                                                                                                                                                                                                                                                                            \n",
      " account_id        | -1                                                                                                                                                                                                                                                                                                                                                                                                                                                                                                                                              \n",
      "-RECORD 1------------------------------------------------------------------------------------------------------------------------------------------------------------------------------------------------------------------------------------------------------------------------------------------------------------------------------------------------------------------------------------------------------------------------------------------------------------------------------------------------------------------------------------------------------------\n",
      " id                | 2                                                                                                                                                                                                                                                                                                                                                                                                                                                                                                                                               \n",
      " reputation        | 94                                                                                                                                                                                                                                                                                                                                                                                                                                                                                                                                              \n",
      " creation_date     | 2010-08-05 18:35:44.813                                                                                                                                                                                                                                                                                                                                                                                                                                                                                                                         \n",
      " display_name      | Geoff Dalgas                                                                                                                                                                                                                                                                                                                                                                                                                                                                                                                                    \n",
      " last_access_date  | 2021-09-05 17:44:06.03                                                                                                                                                                                                                                                                                                                                                                                                                                                                                                                          \n",
      " website_url       | http://stackoverflow.com                                                                                                                                                                                                                                                                                                                                                                                                                                                                                                                        \n",
      " location          | Corvallis, OR                                                                                                                                                                                                                                                                                                                                                                                                                                                                                                                                   \n",
      " about_me          | <p>Dev #2 who helped create Stack Overflow currently working at Microsoft. I love all people willing to share their knowledge. Without community we are nothing.</p>\n",
      "<p>Find me on:</p>\n",
      "<p><a href=\"http://www.twitter.com/SuperDalgas\" rel=\"nofollow noreferrer\">Twitter</a>\n",
      "<br><br>\n",
      "<a href=\"http://blog.stackoverflow.com/2009/05/welcome-stack-overflow-valued-associate-00003/\">Stack Overflow Valued Associate #00003</a></p>\n",
      "                                                                                                           \n",
      " views             | 96                                                                                                                                                                                                                                                                                                                                                                                                                                                                                                                                              \n",
      " up_votes          | 5                                                                                                                                                                                                                                                                                                                                                                                                                                                                                                                                               \n",
      " down_votes        | 9                                                                                                                                                                                                                                                                                                                                                                                                                                                                                                                                               \n",
      " profile_image_url | https://i.stack.imgur.com/nDllk.png?s=128&g=1                                                                                                                                                                                                                                                                                                                                                                                                                                                                                                   \n",
      " account_id        | 2                                                                                                                                                                                                                                                                                                                                                                                                                                                                                                                                               \n",
      "-RECORD 2------------------------------------------------------------------------------------------------------------------------------------------------------------------------------------------------------------------------------------------------------------------------------------------------------------------------------------------------------------------------------------------------------------------------------------------------------------------------------------------------------------------------------------------------------------\n",
      " id                | 3                                                                                                                                                                                                                                                                                                                                                                                                                                                                                                                                               \n",
      " reputation        | 98                                                                                                                                                                                                                                                                                                                                                                                                                                                                                                                                              \n",
      " creation_date     | 2010-08-05 18:37:11.177                                                                                                                                                                                                                                                                                                                                                                                                                                                                                                                         \n",
      " display_name      | Jarrod Dixon                                                                                                                                                                                                                                                                                                                                                                                                                                                                                                                                    \n",
      " last_access_date  | 2021-07-27 04:13:25.28                                                                                                                                                                                                                                                                                                                                                                                                                                                                                                                          \n",
      " website_url       | http://jarroddixon.com                                                                                                                                                                                                                                                                                                                                                                                                                                                                                                                          \n",
      " location          | Johnson City, TN, USA                                                                                                                                                                                                                                                                                                                                                                                                                                                                                                                           \n",
      " about_me          | <p>Former <a href=\"http://blog.stackoverflow.com/2009/01/welcome-stack-overflow-valued-associate-00002/\">Developer on the Stack Overflow team</a>.</p>\n",
      "<p>Was dubbed <strong>SALTY SAILOR</strong> by Jeff Atwood, as filth and flarn would oft-times fly when dealing with a particularly nasty bug!</p>\n",
      "<ul>\n",
      "<li>Twitter me: <a href=\"http://twitter.com/jarrod_dixon\" rel=\"nofollow noreferrer\">jarrod_dixon</a></li>\n",
      "<li>Email me: jarrod.m.dixon@gmail.com</li>\n",
      "</ul>\n",
      "                                                                     \n",
      " views             | 52                                                                                                                                                                                                                                                                                                                                                                                                                                                                                                                                              \n",
      " up_votes          | 92                                                                                                                                                                                                                                                                                                                                                                                                                                                                                                                                              \n",
      " down_votes        | 4                                                                                                                                                                                                                                                                                                                                                                                                                                                                                                                                               \n",
      " profile_image_url | https://i.stack.imgur.com/2mwFl.jpg?s=128&g=1                                                                                                                                                                                                                                                                                                                                                                                                                                                                                                   \n",
      " account_id        | 3                                                                                                                                                                                                                                                                                                                                                                                                                                                                                                                                               \n",
      "only showing top 3 rows"
     ]
    }
   ],
   "source": [
    "df_users.show(3, truncate=False, vertical=True)"
   ]
  },
  {
   "cell_type": "code",
   "execution_count": 218,
   "id": "50e77c9a",
   "metadata": {},
   "outputs": [
    {
     "data": {
      "application/vnd.jupyter.widget-view+json": {
       "model_id": "9bebed3f993545f0b2b9723d2864be30",
       "version_major": 2,
       "version_minor": 0
      },
      "text/plain": [
       "VBox()"
      ]
     },
     "metadata": {},
     "output_type": "display_data"
    },
    {
     "data": {
      "application/vnd.jupyter.widget-view+json": {
       "model_id": "",
       "version_major": 2,
       "version_minor": 0
      },
      "text/plain": [
       "FloatProgress(value=0.0, bar_style='info', description='Progress:', layout=Layout(height='25px', width='50%'),…"
      ]
     },
     "metadata": {},
     "output_type": "display_data"
    }
   ],
   "source": [
    "df_users = df_users.withColumn(\"time_on_forum_in_seconds\", F.col(\"last_access_date\").cast(\"long\") - F.col(\"creation_date\").cast(\"long\"))"
   ]
  },
  {
   "cell_type": "code",
   "execution_count": 232,
   "id": "d5b9b785",
   "metadata": {},
   "outputs": [
    {
     "data": {
      "application/vnd.jupyter.widget-view+json": {
       "model_id": "6ec51a9be4e042faa2392e7d92888ee4",
       "version_major": 2,
       "version_minor": 0
      },
      "text/plain": [
       "VBox()"
      ]
     },
     "metadata": {},
     "output_type": "display_data"
    },
    {
     "data": {
      "application/vnd.jupyter.widget-view+json": {
       "model_id": "",
       "version_major": 2,
       "version_minor": 0
      },
      "text/plain": [
       "FloatProgress(value=0.0, bar_style='info', description='Progress:', layout=Layout(height='25px', width='50%'),…"
      ]
     },
     "metadata": {},
     "output_type": "display_data"
    },
    {
     "name": "stdout",
     "output_type": "stream",
     "text": [
      "-RECORD 0------------------------------------------\n",
      " reputation       | 27152                          \n",
      " location         | null                           \n",
      " creation_date    | 2010-08-05 21:58:50.197        \n",
      " last_access_date | 2022-12-01 04:46:18.413        \n",
      "-RECORD 1------------------------------------------\n",
      " reputation       | 6213                           \n",
      " location         | United Kingdom                 \n",
      " creation_date    | 2010-08-13 08:16:01.983        \n",
      " last_access_date | 2022-12-04 11:58:55.563        \n",
      "-RECORD 2------------------------------------------\n",
      " reputation       | 3521                           \n",
      " location         | Gråsten, Denmark               \n",
      " creation_date    | 2010-08-12 23:14:05.12         \n",
      " last_access_date | 2022-12-02 16:38:16.5          \n",
      "-RECORD 3------------------------------------------\n",
      " reputation       | 101                            \n",
      " location         | Bangkok Thailand               \n",
      " creation_date    | 2010-08-13 22:11:07.72         \n",
      " last_access_date | 2022-12-02 07:40:29.16         \n",
      "-RECORD 4------------------------------------------\n",
      " reputation       | 75337                          \n",
      " location         | Yorkshire, United Kingdom      \n",
      " creation_date    | 2010-08-16 13:08:09.243        \n",
      " last_access_date | 2022-12-04 19:25:40.44         \n",
      "-RECORD 5------------------------------------------\n",
      " reputation       | 101                            \n",
      " location         | null                           \n",
      " creation_date    | 2010-08-13 16:57:36.66         \n",
      " last_access_date | 2022-12-01 12:13:00.603        \n",
      "-RECORD 6------------------------------------------\n",
      " reputation       | 1243                           \n",
      " location         | null                           \n",
      " creation_date    | 2010-08-05 20:29:27.523        \n",
      " last_access_date | 2022-11-23 00:47:12.04         \n",
      "-RECORD 7------------------------------------------\n",
      " reputation       | 1973                           \n",
      " location         | London, United Kingdom         \n",
      " creation_date    | 2010-08-13 08:39:48.85         \n",
      " last_access_date | 2022-11-30 11:21:52.693        \n",
      "-RECORD 8------------------------------------------\n",
      " reputation       | 1065                           \n",
      " location         | 78209                          \n",
      " creation_date    | 2010-08-06 21:14:23.073        \n",
      " last_access_date | 2022-11-23 18:27:38.41         \n",
      "-RECORD 9------------------------------------------\n",
      " reputation       | 101                            \n",
      " location         | Los Angeles, CA, United States \n",
      " creation_date    | 2010-08-13 15:37:41.743        \n",
      " last_access_date | 2022-11-29 22:53:56.337        \n",
      "-RECORD 10-----------------------------------------\n",
      " reputation       | 101                            \n",
      " location         | Boston, MA                     \n",
      " creation_date    | 2010-08-16 20:05:01.757        \n",
      " last_access_date | 2022-12-03 01:00:29.693        \n",
      "-RECORD 11-----------------------------------------\n",
      " reputation       | 2635                           \n",
      " location         | Toronto, ON, Canada            \n",
      " creation_date    | 2010-08-12 20:55:12.333        \n",
      " last_access_date | 2022-11-28 15:25:54.903        \n",
      "-RECORD 12-----------------------------------------\n",
      " reputation       | 311                            \n",
      " location         | St. Neots, United Kingdom      \n",
      " creation_date    | 2010-08-17 16:20:29.877        \n",
      " last_access_date | 2022-12-02 23:07:24.5          \n",
      "-RECORD 13-----------------------------------------\n",
      " reputation       | 3942                           \n",
      " location         | India                          \n",
      " creation_date    | 2010-08-08 08:29:33.737        \n",
      " last_access_date | 2022-11-23 09:15:14.087        \n",
      "-RECORD 14-----------------------------------------\n",
      " reputation       | 530                            \n",
      " location         | null                           \n",
      " creation_date    | 2010-08-15 22:54:01.94         \n",
      " last_access_date | 2022-11-30 22:17:09.73         \n",
      "-RECORD 15-----------------------------------------\n",
      " reputation       | 101                            \n",
      " location         | Paris, France                  \n",
      " creation_date    | 2010-08-14 18:10:40            \n",
      " last_access_date | 2022-11-29 14:50:34.267        \n",
      "-RECORD 16-----------------------------------------\n",
      " reputation       | 405                            \n",
      " location         | South Korea                    \n",
      " creation_date    | 2010-08-08 14:35:05.09         \n",
      " last_access_date | 2022-11-22 21:22:54.17         \n",
      "-RECORD 17-----------------------------------------\n",
      " reputation       | 3081                           \n",
      " location         | United States                  \n",
      " creation_date    | 2010-08-12 20:53:26.613        \n",
      " last_access_date | 2022-11-26 15:35:15.267        \n",
      "-RECORD 18-----------------------------------------\n",
      " reputation       | 58134                          \n",
      " location         | Brescia, Italy                 \n",
      " creation_date    | 2010-08-13 01:28:25.747        \n",
      " last_access_date | 2022-11-25 11:54:18.857        \n",
      "-RECORD 19-----------------------------------------\n",
      " reputation       | 22718                          \n",
      " location         | Waterloo, Canada               \n",
      " creation_date    | 2010-08-19 20:21:25.8          \n",
      " last_access_date | 2022-12-02 03:12:52.583        \n",
      "only showing top 20 rows"
     ]
    }
   ],
   "source": [
    "df_users.select(\"reputation\", \"location\", \"creation_date\", \"last_access_date\").orderBy(F.col(\"time_on_forum_in_seconds\").desc()).show(truncate=False, vertical=True)"
   ]
  },
  {
   "cell_type": "markdown",
   "id": "5d43f427",
   "metadata": {},
   "source": [
    "#### najwyzej i najnizej oceniane pytania"
   ]
  },
  {
   "cell_type": "code",
   "execution_count": 194,
   "id": "b90b7479",
   "metadata": {},
   "outputs": [
    {
     "data": {
      "application/vnd.jupyter.widget-view+json": {
       "model_id": "fdb8fe0f0b014f3e8687c80e8f9c3ab4",
       "version_major": 2,
       "version_minor": 0
      },
      "text/plain": [
       "VBox()"
      ]
     },
     "metadata": {},
     "output_type": "display_data"
    },
    {
     "data": {
      "application/vnd.jupyter.widget-view+json": {
       "model_id": "",
       "version_major": 2,
       "version_minor": 0
      },
      "text/plain": [
       "FloatProgress(value=0.0, bar_style='info', description='Progress:', layout=Layout(height='25px', width='50%'),…"
      ]
     },
     "metadata": {},
     "output_type": "display_data"
    }
   ],
   "source": [
    "df_posts = spark.read.parquet(\"s3://english-stackexchange-com/parquet/2023-01-19/posts.parquet\")"
   ]
  },
  {
   "cell_type": "code",
   "execution_count": 230,
   "id": "fa932651",
   "metadata": {},
   "outputs": [
    {
     "data": {
      "application/vnd.jupyter.widget-view+json": {
       "model_id": "ce78159499c64b8eb6ddad9a752805b8",
       "version_major": 2,
       "version_minor": 0
      },
      "text/plain": [
       "VBox()"
      ]
     },
     "metadata": {},
     "output_type": "display_data"
    },
    {
     "data": {
      "application/vnd.jupyter.widget-view+json": {
       "model_id": "",
       "version_major": 2,
       "version_minor": 0
      },
      "text/plain": [
       "FloatProgress(value=0.0, bar_style='info', description='Progress:', layout=Layout(height='25px', width='50%'),…"
      ]
     },
     "metadata": {},
     "output_type": "display_data"
    },
    {
     "name": "stdout",
     "output_type": "stream",
     "text": [
      "-RECORD 0----------------------------------------------------------------------------------------\n",
      " title | How do you quote a passage that has used '[sic]' mistakenly?                            \n",
      " score | 620                                                                                     \n",
      " tags  | <punctuation><quotations>                                                               \n",
      "-RECORD 1----------------------------------------------------------------------------------------\n",
      " title | Did English ever have a formal version of \"you\"?                                        \n",
      " score | 432                                                                                     \n",
      " tags  | <etymology><pronouns><formality><personal-pronouns><thou-thee-thy>                      \n",
      "-RECORD 2----------------------------------------------------------------------------------------\n",
      " title | Which word begins with \"y\" and looks like an axe in this picture?                       \n",
      " score | 426                                                                                     \n",
      " tags  | <single-word-requests>                                                                  \n",
      "-RECORD 3----------------------------------------------------------------------------------------\n",
      " title | Is there a correct gender-neutral singular pronoun (\"his\" vs. \"her\" vs. \"their\")?       \n",
      " score | 370                                                                                     \n",
      " tags  | <word-choice><possessives><personal-pronouns><singular-they><gender-neutral>            \n",
      "-RECORD 4----------------------------------------------------------------------------------------\n",
      " title | When should I use an em-dash, an en-dash, and a hyphen?                                 \n",
      " score | 310                                                                                     \n",
      " tags  | <punctuation><hyphenation><writing-style><dashes><orthography>                          \n",
      "-RECORD 5----------------------------------------------------------------------------------------\n",
      " title | What is the correct way to pluralize an acronym / initialism?                           \n",
      " score | 306                                                                                     \n",
      " tags  | <grammatical-number><orthography><apostrophe><acronyms><initialisms>                    \n",
      "-RECORD 6----------------------------------------------------------------------------------------\n",
      " title | What is the rule for adjective order?                                                   \n",
      " score | 294                                                                                     \n",
      " tags  | <adjectives><word-order><noun-phrases>                                                  \n",
      "-RECORD 7----------------------------------------------------------------------------------------\n",
      " title | Is there a phrase that means sleeping with someone without sex?                         \n",
      " score | 287                                                                                     \n",
      " tags  | <etymology><phrase-requests><connotation>                                               \n",
      "-RECORD 8----------------------------------------------------------------------------------------\n",
      " title | How many spaces should come after a period/full stop?                                   \n",
      " score | 280                                                                                     \n",
      " tags  | <punctuation><sentence><typography><period><spacing>                                    \n",
      "-RECORD 9----------------------------------------------------------------------------------------\n",
      " title | Is there a word or phrase for the feeling you get after looking at a word for too long? \n",
      " score | 269                                                                                     \n",
      " tags  | <single-word-requests><phrase-requests><linguistics><psychology>                        \n",
      "only showing top 10 rows"
     ]
    }
   ],
   "source": [
    "df_posts.select(\"title\", \"score\", \"tags\").filter(F.col(\"post_type_id\") == 1).sort(F.col(\"score\").desc()).show(10, truncate=False, vertical=True)"
   ]
  },
  {
   "cell_type": "code",
   "execution_count": 228,
   "id": "2622738a",
   "metadata": {},
   "outputs": [
    {
     "data": {
      "application/vnd.jupyter.widget-view+json": {
       "model_id": "e1b005e93297480482425ae58cfb1172",
       "version_major": 2,
       "version_minor": 0
      },
      "text/plain": [
       "VBox()"
      ]
     },
     "metadata": {},
     "output_type": "display_data"
    },
    {
     "data": {
      "application/vnd.jupyter.widget-view+json": {
       "model_id": "",
       "version_major": 2,
       "version_minor": 0
      },
      "text/plain": [
       "FloatProgress(value=0.0, bar_style='info', description='Progress:', layout=Layout(height='25px', width='50%'),…"
      ]
     },
     "metadata": {},
     "output_type": "display_data"
    },
    {
     "name": "stdout",
     "output_type": "stream",
     "text": [
      "-RECORD 0---------------------------------------------------------------------------------------\n",
      " title | How to comprehend the phrase \"put them in affluent group of people\"                    \n",
      " score | -11                                                                                    \n",
      "-RECORD 1---------------------------------------------------------------------------------------\n",
      " title | Word for “Woman Who Hates Men”                                                         \n",
      " score | -10                                                                                    \n",
      "-RECORD 2---------------------------------------------------------------------------------------\n",
      " title | Why does English have so few \"obscene\" roots, compared to Russian?                     \n",
      " score | -10                                                                                    \n",
      "-RECORD 3---------------------------------------------------------------------------------------\n",
      " title | On the subject of \"bring up\" and \"raise\"                                               \n",
      " score | -9                                                                                     \n",
      "-RECORD 4---------------------------------------------------------------------------------------\n",
      " title | One may, two verbs                                                                     \n",
      " score | -9                                                                                     \n",
      "-RECORD 5---------------------------------------------------------------------------------------\n",
      " title | How do you say \"make a stack from a pile of sheets of paper\" in one word?              \n",
      " score | -9                                                                                     \n",
      "-RECORD 6---------------------------------------------------------------------------------------\n",
      " title | \"The bond between children and their parents is the strongest bind on earth\"           \n",
      " score | -9                                                                                     \n",
      "-RECORD 7---------------------------------------------------------------------------------------\n",
      " title | What does \"can you not do it?\" mean?                                                   \n",
      " score | -8                                                                                     \n",
      "-RECORD 8---------------------------------------------------------------------------------------\n",
      " title | Why *is* abbreviation such a long word?                                                \n",
      " score | -8                                                                                     \n",
      "-RECORD 9---------------------------------------------------------------------------------------\n",
      " title | Single word for \"hospital woman worker\"                                                \n",
      " score | -8                                                                                     \n",
      "-RECORD 10--------------------------------------------------------------------------------------\n",
      " title | Meaning of: \"Therefore whether it were I or they\" in scripture                         \n",
      " score | -7                                                                                     \n",
      "-RECORD 11--------------------------------------------------------------------------------------\n",
      " title | Found in Mary'r Room                                                                   \n",
      " score | -7                                                                                     \n",
      "-RECORD 12--------------------------------------------------------------------------------------\n",
      " title | Can I use \"lardy-dardy\" to describe a man's gay lisp and gesture?                      \n",
      " score | -7                                                                                     \n",
      "-RECORD 13--------------------------------------------------------------------------------------\n",
      " title | what is another word you would call or label someone that you feel isnt on your level? \n",
      " score | -7                                                                                     \n",
      "-RECORD 14--------------------------------------------------------------------------------------\n",
      " title | is newspeak in close proximity to the present trend?                                   \n",
      " score | -7                                                                                     \n",
      "only showing top 15 rows"
     ]
    }
   ],
   "source": [
    "df_posts.select(\"title\", \"score\").filter(F.col(\"post_type_id\") == 1).sort(F.col(\"score\").asc()).show(15, truncate=False, vertical=True)"
   ]
  },
  {
   "cell_type": "markdown",
   "id": "9afd04ef",
   "metadata": {},
   "source": [
    "#### historycznie najpopularniejsze pytania (najwięcej wyświetleń)"
   ]
  },
  {
   "cell_type": "code",
   "execution_count": 226,
   "id": "b337c07a",
   "metadata": {},
   "outputs": [
    {
     "data": {
      "application/vnd.jupyter.widget-view+json": {
       "model_id": "770cfdaa390b459d8d90f2e36c6fd33f",
       "version_major": 2,
       "version_minor": 0
      },
      "text/plain": [
       "VBox()"
      ]
     },
     "metadata": {},
     "output_type": "display_data"
    },
    {
     "data": {
      "application/vnd.jupyter.widget-view+json": {
       "model_id": "",
       "version_major": 2,
       "version_minor": 0
      },
      "text/plain": [
       "FloatProgress(value=0.0, bar_style='info', description='Progress:', layout=Layout(height='25px', width='50%'),…"
      ]
     },
     "metadata": {},
     "output_type": "display_data"
    },
    {
     "name": "stdout",
     "output_type": "stream",
     "text": [
      "-RECORD 0------------------------------------------------------------------------------------------------------------\n",
      " title      | What is the *best* way to express that an email contains an attachment?                                \n",
      " view_count | 2313084                                                                                                \n",
      " tags       | <formality><email>                                                                                     \n",
      "-RECORD 1------------------------------------------------------------------------------------------------------------\n",
      " title      | Is it \"bear\" or \"bare\" with me?                                                                        \n",
      " view_count | 1862608                                                                                                \n",
      " tags       | <word-choice><homophones>                                                                              \n",
      "-RECORD 2------------------------------------------------------------------------------------------------------------\n",
      " title      | How should I tell someone \"I called you but you didn't answer\"? without being rude or confrontational? \n",
      " view_count | 1655305                                                                                                \n",
      " tags       | <politeness><telephone>                                                                                \n",
      "-RECORD 3------------------------------------------------------------------------------------------------------------\n",
      " title      | How to reply to \"I hope you are well\"?                                                                 \n",
      " view_count | 1485095                                                                                                \n",
      " tags       | <politeness><email><greetings>                                                                         \n",
      "-RECORD 4------------------------------------------------------------------------------------------------------------\n",
      " title      | In sex talk, how many bases are there and what do they all mean?                                       \n",
      " view_count | 1428673                                                                                                \n",
      " tags       | <meaning><idioms>                                                                                      \n",
      "-RECORD 5------------------------------------------------------------------------------------------------------------\n",
      " title      | Difference between \"How are you?\" and \"How are you doing?\"                                             \n",
      " view_count | 1421452                                                                                                \n",
      " tags       | <meaning><questions><phrase-usage><register>                                                           \n",
      "-RECORD 6------------------------------------------------------------------------------------------------------------\n",
      " title      | \"Dear Sir or Madam\" versus \"To whom it may concern\"                                                    \n",
      " view_count | 1400619                                                                                                \n",
      " tags       | <word-choice><letter-writing><salutations>                                                             \n",
      "-RECORD 7------------------------------------------------------------------------------------------------------------\n",
      " title      | What does \"What are you up to?\" mean?                                                                  \n",
      " view_count | 1337879                                                                                                \n",
      " tags       | <idioms>                                                                                               \n",
      "-RECORD 8------------------------------------------------------------------------------------------------------------\n",
      " title      | What should a reply to \"What's up?\" be?                                                                \n",
      " view_count | 1264105                                                                                                \n",
      " tags       | <word-choice><conversation>                                                                            \n",
      "-RECORD 9------------------------------------------------------------------------------------------------------------\n",
      " title      | How do you respond back to \"Hi, how is it going?\"                                                      \n",
      " view_count | 1255751                                                                                                \n",
      " tags       | <greetings><politeness>                                                                                \n",
      "only showing top 10 rows"
     ]
    }
   ],
   "source": [
    "df_posts.select(\"title\", \"view_count\", \"tags\").filter(F.col(\"post_type_id\") == 1).sort(F.col(\"view_count\").desc()).show(10, truncate=False, vertical=True)"
   ]
  },
  {
   "cell_type": "markdown",
   "id": "d57c14c4",
   "metadata": {},
   "source": [
    "#### zaakceptowane vs niezaakceptowane"
   ]
  },
  {
   "cell_type": "code",
   "execution_count": 201,
   "id": "dcf91f86",
   "metadata": {},
   "outputs": [
    {
     "data": {
      "application/vnd.jupyter.widget-view+json": {
       "model_id": "5aeabe8e96b94e40a8c89f7b0edc2634",
       "version_major": 2,
       "version_minor": 0
      },
      "text/plain": [
       "VBox()"
      ]
     },
     "metadata": {},
     "output_type": "display_data"
    },
    {
     "data": {
      "application/vnd.jupyter.widget-view+json": {
       "model_id": "",
       "version_major": 2,
       "version_minor": 0
      },
      "text/plain": [
       "FloatProgress(value=0.0, bar_style='info', description='Progress:', layout=Layout(height='25px', width='50%'),…"
      ]
     },
     "metadata": {},
     "output_type": "display_data"
    },
    {
     "name": "stdout",
     "output_type": "stream",
     "text": [
      "66329"
     ]
    }
   ],
   "source": [
    "df_posts.filter((F.col(\"post_type_id\") == 1) & F.col(\"accepted_answer_id\").isNull()).count()"
   ]
  },
  {
   "cell_type": "code",
   "execution_count": 202,
   "id": "f9962d6c",
   "metadata": {},
   "outputs": [
    {
     "data": {
      "application/vnd.jupyter.widget-view+json": {
       "model_id": "176083dccb6a48f4a86cbcfd32fc8bf8",
       "version_major": 2,
       "version_minor": 0
      },
      "text/plain": [
       "VBox()"
      ]
     },
     "metadata": {},
     "output_type": "display_data"
    },
    {
     "data": {
      "application/vnd.jupyter.widget-view+json": {
       "model_id": "",
       "version_major": 2,
       "version_minor": 0
      },
      "text/plain": [
       "FloatProgress(value=0.0, bar_style='info', description='Progress:', layout=Layout(height='25px', width='50%'),…"
      ]
     },
     "metadata": {},
     "output_type": "display_data"
    },
    {
     "name": "stdout",
     "output_type": "stream",
     "text": [
      "60801"
     ]
    }
   ],
   "source": [
    "df_posts.filter((F.col(\"post_type_id\") == 1) & F.col(\"accepted_answer_id\").isNotNull()).count()"
   ]
  },
  {
   "cell_type": "code",
   "execution_count": 203,
   "id": "62cbf734",
   "metadata": {},
   "outputs": [
    {
     "data": {
      "application/vnd.jupyter.widget-view+json": {
       "model_id": "dc8691ff0de549ff8afb0b840f2573e2",
       "version_major": 2,
       "version_minor": 0
      },
      "text/plain": [
       "VBox()"
      ]
     },
     "metadata": {},
     "output_type": "display_data"
    },
    {
     "data": {
      "application/vnd.jupyter.widget-view+json": {
       "model_id": "",
       "version_major": 2,
       "version_minor": 0
      },
      "text/plain": [
       "FloatProgress(value=0.0, bar_style='info', description='Progress:', layout=Layout(height='25px', width='50%'),…"
      ]
     },
     "metadata": {},
     "output_type": "display_data"
    },
    {
     "name": "stdout",
     "output_type": "stream",
     "text": [
      "127130"
     ]
    }
   ],
   "source": [
    "df_posts.filter((F.col(\"post_type_id\") == 1)).count()"
   ]
  },
  {
   "cell_type": "code",
   "execution_count": null,
   "id": "ca91a799",
   "metadata": {},
   "outputs": [],
   "source": []
  }
 ],
 "metadata": {
  "kernelspec": {
   "display_name": "PySpark",
   "language": "python",
   "name": "pysparkkernel"
  },
  "language_info": {
   "codemirror_mode": {
    "name": "python",
    "version": 3
   },
   "file_extension": ".py",
   "mimetype": "text/x-python",
   "name": "pyspark",
   "pygments_lexer": "python3"
  }
 },
 "nbformat": 4,
 "nbformat_minor": 5
}
